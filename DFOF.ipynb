{
  "nbformat": 4,
  "nbformat_minor": 0,
  "metadata": {
    "colab": {
      "provenance": [],
      "authorship_tag": "ABX9TyMSbr5G9Wj786nSH2zybBGH",
      "include_colab_link": true
    },
    "kernelspec": {
      "name": "python3",
      "display_name": "Python 3"
    },
    "language_info": {
      "name": "python"
    }
  },
  "cells": [
    {
      "cell_type": "markdown",
      "metadata": {
        "id": "view-in-github",
        "colab_type": "text"
      },
      "source": [
        "<a href=\"https://colab.research.google.com/github/dtabuena/Images/blob/main/DFOF.ipynb\" target=\"_parent\"><img src=\"https://colab.research.google.com/assets/colab-badge.svg\" alt=\"Open In Colab\"/></a>"
      ]
    },
    {
      "cell_type": "code",
      "source": [
        "import tifffile\n",
        "import numpy as np\n",
        "from google import colab\n",
        "from matplotlib import pyplot as plt\n",
        "import scipy\n",
        "\n",
        "# # Open Bin Save\n",
        "def get_drobox_file(new_filename, link):\n",
        "    !wget -O $new_filename $link\n",
        "    return new_filename\n",
        "\n",
        "\n",
        "def bin_stack(im,bin_factor):\n",
        "    height = im.shape[1] // bin_factor\n",
        "    width = im.shape[2] // bin_factor\n",
        "    im = im[:, :height * bin_factor, : width * bin_factor]\n",
        "    im = im.reshape(im.shape[0], height, bin_factor, width, bin_factor)\n",
        "    im = im.sum((2, 4), dtype='uint32')\n",
        "    return im\n",
        "\n",
        "\n",
        "def open_bin_save(db_link,new_name,bin_factor):\n",
        "    print('importing')\n",
        "    _ = get_drobox_file(new_name, db_link)\n",
        "    print('reading')\n",
        "    im = tifffile.imread('/content/'+new_name, maxworkers=6)\n",
        "    print('binning')\n",
        "    im = bin_stack(im, bin_factor)\n",
        "    print('saving')\n",
        "    tifffile.imwrite('/content/my_tiff_bin.tiff', im) #, imagej=True\n",
        "\n",
        "    # !zip -r '/content/my_tiff_bin.zip' '/content/my_tiff_bin.tiff'\n",
        "\n",
        "    print('downloading')\n",
        "    colab.files.download('/content/my_tiff_bin.tiff')\n",
        "    return im\n",
        "\n"
      ],
      "metadata": {
        "id": "w_i8byzQGmL0"
      },
      "execution_count": 1,
      "outputs": []
    },
    {
      "cell_type": "code",
      "source": [
        "new_name = 'my_tiff.tiff'\n",
        "db_link = 'https://www.dropbox.com/s/25s9avjszghte1k/s3_cnt%5B1-5000_EX0%5D.TIF?dl=0'\n",
        "bin_factor=10\n",
        "\n",
        "_ = get_drobox_file(new_name, db_link)\n",
        "im = tifffile.imread('/content/'+new_name, maxworkers=6)\n",
        "im = bin_stack(im, bin_factor)\n"
      ],
      "metadata": {
        "colab": {
          "base_uri": "https://localhost:8080/"
        },
        "id": "K1ylLUiCn2Y9",
        "outputId": "ed85a782-710c-47b3-8370-e23e517741f8"
      },
      "execution_count": 2,
      "outputs": [
        {
          "output_type": "stream",
          "name": "stdout",
          "text": [
            "--2023-05-19 04:37:41--  https://www.dropbox.com/s/25s9avjszghte1k/s3_cnt%5B1-5000_EX0%5D.TIF?dl=0\n",
            "Resolving www.dropbox.com (www.dropbox.com)... 162.125.80.18, 2620:100:601f:18::a27d:912\n",
            "Connecting to www.dropbox.com (www.dropbox.com)|162.125.80.18|:443... connected.\n",
            "HTTP request sent, awaiting response... 302 Found\n",
            "Location: /s/raw/25s9avjszghte1k/s3_cnt%5B1-5000_EX0%5D.TIF [following]\n",
            "--2023-05-19 04:37:42--  https://www.dropbox.com/s/raw/25s9avjszghte1k/s3_cnt%5B1-5000_EX0%5D.TIF\n",
            "Reusing existing connection to www.dropbox.com:443.\n",
            "HTTP request sent, awaiting response... 302 Found\n",
            "Location: https://uc6b4a3771e70f8fc8ef95ff2a4b.dl.dropboxusercontent.com/cd/0/inline/B8Vtkge3cY4Cs3aIg7KXAnE7Vpz36upmFXSvsqxYqJ2qv9AOgG1LdgEbG4l8B3eoVsQvA3PcTDnPyR-VE4QHG4_yyeqV4XSmqE6PQ0J6CHCZJoeezytrDhYwuwT_5rZfvtYLosEP-sD6Tn3kOmG4QYwPU3SshECw7NBBdg6Wr2UNKQ/file# [following]\n",
            "--2023-05-19 04:37:43--  https://uc6b4a3771e70f8fc8ef95ff2a4b.dl.dropboxusercontent.com/cd/0/inline/B8Vtkge3cY4Cs3aIg7KXAnE7Vpz36upmFXSvsqxYqJ2qv9AOgG1LdgEbG4l8B3eoVsQvA3PcTDnPyR-VE4QHG4_yyeqV4XSmqE6PQ0J6CHCZJoeezytrDhYwuwT_5rZfvtYLosEP-sD6Tn3kOmG4QYwPU3SshECw7NBBdg6Wr2UNKQ/file\n",
            "Resolving uc6b4a3771e70f8fc8ef95ff2a4b.dl.dropboxusercontent.com (uc6b4a3771e70f8fc8ef95ff2a4b.dl.dropboxusercontent.com)... 162.125.2.15, 2620:100:601d:15::a27d:50f\n",
            "Connecting to uc6b4a3771e70f8fc8ef95ff2a4b.dl.dropboxusercontent.com (uc6b4a3771e70f8fc8ef95ff2a4b.dl.dropboxusercontent.com)|162.125.2.15|:443... connected.\n",
            "HTTP request sent, awaiting response... 200 OK\n",
            "Length: 3646040016 (3.4G) [image/tiff]\n",
            "Saving to: ‘my_tiff.tiff’\n",
            "\n",
            "my_tiff.tiff        100%[===================>]   3.40G  47.2MB/s    in 84s     \n",
            "\n",
            "2023-05-19 04:39:08 (41.2 MB/s) - ‘my_tiff.tiff’ saved [3646040016/3646040016]\n",
            "\n"
          ]
        }
      ]
    },
    {
      "cell_type": "code",
      "source": [
        "im_shape = im.shape\n",
        "im = np.reshape(im, [im_shape[0], im_shape[1]*im_shape[2]])\n",
        "print(im.shape)\n",
        "\n",
        "im_r_std = np.expand_dims(np.std(im,axis=0),1)\n",
        "im_r_avg = np.expand_dims(np.average(im,axis=0),1)\n",
        "im = (im-im_r_avg.T)/im_r_std.T\n",
        "\n",
        "# # f0 = 1200\n",
        "# # im_r = im_r / im_r[f0,:]\n",
        "\n",
        "# plt.imshow(im_r.T)\n",
        "# plt.colorbar()\n",
        "# plt.show()\n",
        "\n"
      ],
      "metadata": {
        "id": "qYIS4EYqu_Nt",
        "outputId": "5219a58f-b929-4cf2-9ee8-d747265567e2",
        "colab": {
          "base_uri": "https://localhost:8080/"
        }
      },
      "execution_count": 3,
      "outputs": [
        {
          "output_type": "stream",
          "name": "stdout",
          "text": [
            "(5000, 3600)\n"
          ]
        }
      ]
    },
    {
      "cell_type": "code",
      "source": [
        "# [lo,me,hi] = np.percentile(im,[1,50,99],axis=1)\n",
        "\n",
        "# fig,ax=plt.subplots()\n",
        "# ax.plot(im,color='grey')\n",
        "# ax.plot(lo,':k')\n",
        "# ax.plot(hi,':k')\n",
        "# ax.plot(me,'r')\n",
        "\n"
      ],
      "metadata": {
        "id": "IMKqqyWrnhxB"
      },
      "execution_count": 4,
      "outputs": []
    },
    {
      "cell_type": "code",
      "source": [
        "# def exp_func(xdata,a,b,c):\n",
        "#     return a*np.exp(xdata/-b) + c\n",
        "\n",
        "# p0_1 = [3,2000,-10]\n",
        "# xdata = np.arange(len(me))\n",
        "# xdata_trunk = xdata[fit_range]\n",
        "# ydata=me[fit_range]\n",
        "# p = scipy.optimize.curve_fit(exp_func, xdata_trunk, ydata,p0=p0_1)\n",
        "# fig,ax=plt.subplots()\n",
        "# ax.plot(me,'k')\n",
        "# ax.plot(xdata_trunk,ydata,'m')\n",
        "# ax.plot(exp_func(xdata,*p[0]),'r')\n",
        "# print(p[0])"
      ],
      "metadata": {
        "id": "EE-1YPBBlwgD"
      },
      "execution_count": 5,
      "outputs": []
    },
    {
      "cell_type": "code",
      "source": [
        "# p = scipy.optimize.curve_fit(exp_func, xdata_trunk, ydata,p0=p0_1)\n",
        "# fig,ax=plt.subplots()\n",
        "# ax.plot(me,'k')\n",
        "# ax.plot(xdata_trunk,ydata,'m')\n",
        "# ax.plot(exp_func(xdata,*p[0]),'r')"
      ],
      "metadata": {
        "id": "6awuof4flt6A"
      },
      "execution_count": 6,
      "outputs": []
    },
    {
      "cell_type": "code",
      "source": [
        "def exp_func(xdata,a,b,c):\n",
        "    return a*np.exp(xdata/-b) + c\n",
        "\n",
        "def doub_exp_func(xdata,a1,a2,b1,b2,c):\n",
        "    return a1*np.exp(xdata/-b1) + a2*np.exp(xdata/-b2) + c\n",
        "\n",
        "fit_range=np.arange(300,1100)\n",
        "\n",
        "p0_1 = [3,2000,-10]\n",
        "p0_2 = [3,3,2000,2000,-10]\n",
        "xdata = np.arange(len(im[:,1]))\n",
        "xdata_trunk = xdata[fit_range]\n",
        "ydata=im[:,1][fit_range]\n",
        "p = scipy.optimize.curve_fit(exp_func, xdata_trunk, ydata,p0=p0_1)\n",
        "# print(p)\n",
        "\n",
        "fig,ax=plt.subplots()\n",
        "ax.plot(im[:,1],'k')\n",
        "ax.plot(xdata_trunk,ydata,'m')\n",
        "ax.plot(exp_func(xdata,*p[0]),'r')"
      ],
      "metadata": {
        "colab": {
          "base_uri": "https://localhost:8080/",
          "height": 450
        },
        "id": "IZaogsrM-Zt0",
        "outputId": "e3a028b3-2ed3-4e92-d5ab-b29c2f6731bd"
      },
      "execution_count": 56,
      "outputs": [
        {
          "output_type": "execute_result",
          "data": {
            "text/plain": [
              "[<matplotlib.lines.Line2D at 0x7f839c081480>]"
            ]
          },
          "metadata": {},
          "execution_count": 56
        },
        {
          "output_type": "display_data",
          "data": {
            "text/plain": [
              "<Figure size 640x480 with 1 Axes>"
            ],
            "image/png": "[encoded data removed]"
          },
          "metadata": {}
        }
      ]
    },
    {
      "cell_type": "code",
      "source": [
        "# decay = doub_exp_func(xdata,*p[0])\n",
        "# im = im - np.expand_dims(decay,1)\n",
        "# fig,ax=plt.subplots()\n",
        "# ax.imshow(im.T)\n",
        "# plt.colorbar()"
      ],
      "metadata": {
        "id": "5CsDnJ4dC-yU"
      },
      "execution_count": 8,
      "outputs": []
    },
    {
      "cell_type": "code",
      "source": [
        "# def exp_func_err(xdata,ydata,a,b,c):\n",
        "    # xdata = np.expand_dims(xdata,1)\n",
        "    # return np.sum(np.abs(ydata - a*np.exp(xdata/-b) + c).flatten())\n",
        "\n",
        "im_test = im\n",
        "\n",
        "fit_range=np.arange(500,1100)\n",
        "xdata =  np.expand_dims(np.arange(im.shape[0]),1) * np.ones_like(im)\n",
        "xdata_trunk=xdata[fit_range,1]\n",
        "ydata = im_test[fit_range,:]\n",
        "p0_1 = [8,6000,-4]\n",
        "a=np.ones((1,im_test.shape[1]))*p0_1[0]\n",
        "b=np.ones((1,im_test.shape[1]))*p0_1[1]\n",
        "c=np.ones((1,im_test.shape[1]))*p0_1[2]\n",
        "\n",
        "\n",
        "\n",
        "def exp_func(xdata,a,b,c):   \n",
        "    a = np.expand_dims(a,1).T\n",
        "    b = np.expand_dims(b,1).T\n",
        "    c = np.expand_dims(c,1).T\n",
        "\n",
        "    # print(a.shape,b.shape,c.shape)\n",
        "    xdata = np.expand_dims(xdata,1)\n",
        "    return a*np.exp(xdata/-b) + c\n",
        "\n",
        "def exp_func_err(abc,xdata,ydata):    \n",
        "    n = ydata.shape[1]\n",
        "    # print(n)\n",
        "    yhat = exp_func(xdata,abc[0:n],abc[n:n*2],abc[n*2:n*3])\n",
        "    er = np.sum(np.square(ydata - yhat).flatten() )\n",
        "    print(er)\n",
        "    return er\n",
        "\n",
        "\n",
        "abc = np.stack((a,b,c),0)\n",
        "abc = abc.flatten()\n",
        "# yhat = exp_func(xdata_trunk,abc[0:n],abc[n:n*2],abc[n*2:n*3])\n",
        "\n",
        "res = scipy.optimize.minimize(exp_func_err, abc, args=(xdata_trunk,ydata),options={'maxiter':200,'disp':True})\n",
        "# n=50\n",
        "# \n",
        "# \n",
        "# "
      ],
      "metadata": {
        "id": "EkGIJ9lOTOo4"
      },
      "execution_count": null,
      "outputs": []
    },
    {
      "cell_type": "code",
      "source": [
        "result = res['x']\n",
        "yhat = exp_func(xdata_trunk,result[0:n],result[n:n*2],result[n*2:n*3])\n",
        "plt.imshow(yhat.T)"
      ],
      "metadata": {
        "id": "pTiPkGVJT3WF"
      },
      "execution_count": null,
      "outputs": []
    },
    {
      "cell_type": "code",
      "source": [
        "# print(res)\n",
        "# f= res['x']\n",
        "# plt.plot(f)\n"
      ],
      "metadata": {
        "id": "-SUTRYYxj_Jd"
      },
      "execution_count": null,
      "outputs": []
    },
    {
      "cell_type": "code",
      "source": [
        "# from matplotlib import pyplot as plt\n",
        "# from sklearn.decomposition import FastICA, TruncatedSVD, SparsePCA\n",
        "# # import sklearn"
      ],
      "metadata": {
        "id": "NxeeUSxzzUNX"
      },
      "execution_count": null,
      "outputs": []
    },
    {
      "cell_type": "code",
      "source": [
        "# from sklearn.decomposition import NMF\n",
        "# n_components=12\n",
        "# offset = 4\n",
        "# model = NMF(n_components=n_components, init='random', random_state=0)\n",
        "# W = model.fit_transform(im_r+offset)\n",
        "# H = model.components_\n",
        "# fig,ax=plt.subplots()\n",
        "# ax.plot(W ) \n",
        "\n",
        "# h_r = np.reshape(H,[n_components,im_shape[1], im_shape[2]])\n",
        "# fig,ax=plt.subplots(2,int(n_components/2),figsize=(15,3))\n",
        "# ax = ax.flatten()\n",
        "# for ki in range(n_components):\n",
        "#     ax[ki].imshow(h_r[ki,:,:])\n",
        "\n",
        "# fig,ax=plt.subplots(2,int(n_components/2),figsize=(15,3))\n",
        "# ax = ax.flatten()\n",
        "# for ki in range(n_components):\n",
        "#     h_i = h_r[ki,:,:]\n",
        "#     ax[ki].plot( np.sum(h_i,axis=0))\n",
        "#     ax[ki].plot( np.sum(h_i,axis=1))# , np.arange(im_shape[1])"
      ],
      "metadata": {
        "id": "qt0jmCHs2_YJ"
      },
      "execution_count": null,
      "outputs": []
    },
    {
      "cell_type": "code",
      "source": [],
      "metadata": {
        "id": "-CWqcjvPBj-h"
      },
      "execution_count": null,
      "outputs": []
    },
    {
      "cell_type": "code",
      "source": [
        "# backlist = [0,1,2]\n",
        "\n",
        "# Background = W[:,backlist] @ H[backlist,:]\n",
        "# im_corr = im_r - Background - offset\n",
        "# # im_corr = (im_corr*im_r_std.T) + im_r_avg.T\n",
        "# plt.imshow(im_corr.T)\n",
        "# plt.colorbar()\n",
        "# im_corr = np.reshape(im_corr,[im_shape[0],im_shape[1], im_shape[2]])"
      ],
      "metadata": {
        "id": "Pg9TDI4iX51A"
      },
      "execution_count": null,
      "outputs": []
    },
    {
      "cell_type": "code",
      "source": [
        "# tifffile.imwrite('/content/my_tiff_corr.tiff', im_corr) #, imagej=True\n",
        "# print('downloading')\n",
        "# colab.files.download('/content/my_tiff_corr.tiff')"
      ],
      "metadata": {
        "id": "8GGEs2ih4NLz"
      },
      "execution_count": null,
      "outputs": []
    },
    {
      "cell_type": "code",
      "source": [
        "# from sklearn.utils.extmath import randomized_svd\n",
        "# n_components = 12\n",
        "# u, s, vt = randomized_svd(im_r,n_components=n_components,n_iter=5,random_state=None)\n",
        "# fig,ax=plt.subplots()\n",
        "# ax.plot(u)\n",
        "# ax.legend(np.arange(n_components))\n",
        "# vt_r = np.reshape(vt,[n_components,im_shape[1], im_shape[2]])\n",
        "# fig,ax=plt.subplots(2,int(n_components/2),figsize=(10,3))\n",
        "# ax = ax.flatten()\n",
        "# for ki in range(n_components):\n",
        "#     ax[ki].imshow(vt_r[ki,:,:])\n"
      ],
      "metadata": {
        "id": "ZDB0_ML6aGG4"
      },
      "execution_count": null,
      "outputs": []
    },
    {
      "cell_type": "code",
      "source": [
        "\n",
        "# ica = FastICA(n_components=n_components,random_state=0,whiten='unit-variance')\n",
        "# im_trans =  ica.fit_transform(im_r_n.T)\n",
        "# A_ = ica.mixing_  # Get estimated mixing matrix\n",
        "# plt.plot(A_)\n",
        "# plt.show()\n",
        "# plt.plot(im_trans.T)\n",
        "# plt.show()"
      ],
      "metadata": {
        "id": "S8lz22hTt3Nj"
      },
      "execution_count": null,
      "outputs": []
    }
  ]
}