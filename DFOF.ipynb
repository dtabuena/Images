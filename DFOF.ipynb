{
  "nbformat": 4,
  "nbformat_minor": 0,
  "metadata": {
    "colab": {
      "provenance": [],
      "authorship_tag": "ABX9TyMmCbdly/USLIGqWXYpg/8U",
      "include_colab_link": true
    },
    "kernelspec": {
      "name": "python3",
      "display_name": "Python 3"
    },
    "language_info": {
      "name": "python"
    }
  },
  "cells": [
    {
      "cell_type": "markdown",
      "metadata": {
        "id": "view-in-github",
        "colab_type": "text"
      },
      "source": [
        "<a href=\"https://colab.research.google.com/github/dtabuena/Images/blob/main/DFOF.ipynb\" target=\"_parent\"><img src=\"https://colab.research.google.com/assets/colab-badge.svg\" alt=\"Open In Colab\"/></a>"
      ]
    },
    {
      "cell_type": "code",
      "source": [
        "import tifffile\n",
        "import numpy as np\n",
        "from google import colab\n",
        "from matplotlib import pyplot as plt\n",
        "import scipy\n",
        "from tqdm import tqdm\n",
        "\n",
        "# # Open Bin Save\n",
        "def get_drobox_file(new_filename, link):\n",
        "    !wget -O $new_filename $link\n",
        "    return new_filename\n",
        "\n",
        "\n",
        "def bin_stack(im,bin_factor):\n",
        "    height = im.shape[1] // bin_factor\n",
        "    width = im.shape[2] // bin_factor\n",
        "    im = im[:, :height * bin_factor, : width * bin_factor]\n",
        "    im = im.reshape(im.shape[0], height, bin_factor, width, bin_factor)\n",
        "    im = im.sum((2, 4), dtype='uint32')\n",
        "    return im\n",
        "\n",
        "\n",
        "def open_bin_save(db_link,new_name,bin_factor):\n",
        "    print('importing')\n",
        "    _ = get_drobox_file(new_name, db_link)\n",
        "    print('reading')\n",
        "    im = tifffile.imread('/content/'+new_name, maxworkers=6)\n",
        "    print('binning')\n",
        "    im = bin_stack(im, bin_factor)\n",
        "    print('saving')\n",
        "    tifffile.imwrite('/content/my_tiff_bin.tiff', im) #, imagej=True\n",
        "\n",
        "    # !zip -r '/content/my_tiff_bin.zip' '/content/my_tiff_bin.tiff'\n",
        "\n",
        "    print('downloading')\n",
        "    colab.files.download('/content/my_tiff_bin.tiff')\n",
        "    return im\n",
        "\n"
      ],
      "metadata": {
        "id": "w_i8byzQGmL0"
      },
      "execution_count": 1,
      "outputs": []
    },
    {
      "cell_type": "code",
      "source": [
        "new_name = 'my_tiff.tiff'\n",
        "db_link = 'https://www.dropbox.com/s/25s9avjszghte1k/s3_cnt%5B1-5000_EX0%5D.TIF?dl=0'\n",
        "bin_factor=4\n",
        "\n",
        "_ = get_drobox_file(new_name, db_link)\n",
        "im = tifffile.imread('/content/'+new_name, maxworkers=6)\n",
        "im = bin_stack(im, bin_factor)\n"
      ],
      "metadata": {
        "colab": {
          "base_uri": "https://localhost:8080/"
        },
        "id": "K1ylLUiCn2Y9",
        "outputId": "d69afc63-e1bb-4318-8c64-91f5ffe9dd11"
      },
      "execution_count": 2,
      "outputs": [
        {
          "output_type": "stream",
          "name": "stdout",
          "text": [
            "--2023-05-19 07:08:42--  https://www.dropbox.com/s/25s9avjszghte1k/s3_cnt%5B1-5000_EX0%5D.TIF?dl=0\n",
            "Resolving www.dropbox.com (www.dropbox.com)... 162.125.2.18, 2620:100:6017:18::a27d:212\n",
            "Connecting to www.dropbox.com (www.dropbox.com)|162.125.2.18|:443... connected.\n",
            "HTTP request sent, awaiting response... 302 Found\n",
            "Location: /s/raw/25s9avjszghte1k/s3_cnt%5B1-5000_EX0%5D.TIF [following]\n",
            "--2023-05-19 07:08:42--  https://www.dropbox.com/s/raw/25s9avjszghte1k/s3_cnt%5B1-5000_EX0%5D.TIF\n",
            "Reusing existing connection to www.dropbox.com:443.\n",
            "HTTP request sent, awaiting response... 302 Found\n",
            "Location: https://ucbde1a736f07dcb2ccb052a0265.dl.dropboxusercontent.com/cd/0/inline/B8Xd5uel2bNSOZJ6hBArnfV3xlppZa-xpSGBUQ_HJJwPNRYDpVsMDbh6Cn8RqYhkBruN6ib4C2xDsJ1TcTJPtk8a74A10bbfKVE4PzEloheUFVf-VPkSKC-cf7QCb-fvzqkWGINUDlPgJ5jNbwAMDQmRuBLvF5aRFMF0sxbk9WMIAQ/file# [following]\n",
            "--2023-05-19 07:08:43--  https://ucbde1a736f07dcb2ccb052a0265.dl.dropboxusercontent.com/cd/0/inline/B8Xd5uel2bNSOZJ6hBArnfV3xlppZa-xpSGBUQ_HJJwPNRYDpVsMDbh6Cn8RqYhkBruN6ib4C2xDsJ1TcTJPtk8a74A10bbfKVE4PzEloheUFVf-VPkSKC-cf7QCb-fvzqkWGINUDlPgJ5jNbwAMDQmRuBLvF5aRFMF0sxbk9WMIAQ/file\n",
            "Resolving ucbde1a736f07dcb2ccb052a0265.dl.dropboxusercontent.com (ucbde1a736f07dcb2ccb052a0265.dl.dropboxusercontent.com)... 162.125.3.15, 2620:100:6017:15::a27d:20f\n",
            "Connecting to ucbde1a736f07dcb2ccb052a0265.dl.dropboxusercontent.com (ucbde1a736f07dcb2ccb052a0265.dl.dropboxusercontent.com)|162.125.3.15|:443... connected.\n",
            "HTTP request sent, awaiting response... 200 OK\n",
            "Length: 3646040016 (3.4G) [image/tiff]\n",
            "Saving to: ‘my_tiff.tiff’\n",
            "\n",
            "my_tiff.tiff        100%[===================>]   3.40G  52.5MB/s    in 66s     \n",
            "\n",
            "2023-05-19 07:09:50 (52.5 MB/s) - ‘my_tiff.tiff’ saved [3646040016/3646040016]\n",
            "\n"
          ]
        }
      ]
    },
    {
      "cell_type": "code",
      "source": [
        "def exp_func(xdata,a,b,c):\n",
        "    return a*np.exp(xdata/-b) + c\n",
        "\n",
        "def doub_exp_func(xdata,a1,a2,b1,b2,c):\n",
        "    return a1*np.exp(xdata/-b1) + a2*np.exp(xdata/-b2) + c\n",
        "\n",
        "\n",
        "fit_range=np.append(np.arange(300,1100),np.arange(4980,5000))\n",
        "xdata = np.arange(im.shape[0])\n",
        "xdata_trunk = fit_range\n",
        "a = np.zeros((im.shape[1]))\n",
        "b = np.zeros((im.shape[1]))\n",
        "c = np.zeros((im.shape[1]))\n",
        "yhat = np.zeros_like(im)\n",
        "for px in tqdm(range(im.shape[1])):\n",
        "    ydata = im[fit_range,px]\n",
        "    p = scipy.optimize.curve_fit(exp_func, xdata_trunk, ydata,p0=p0_1)\n",
        "    a[px]=p[0][0]\n",
        "    b[px]=p[0][1]\n",
        "    c[px]=p[0][2]\n",
        "    yhat[:,px] = exp_func(xdata,*p[0])\n",
        "\n",
        "\n",
        "\n",
        "\n",
        "tifffile.imwrite('/content/my_tiff_corr.tiff', np.reshape(im - yhat, im_shape)) #, imagej=True\n",
        "print('downloading')\n",
        "colab.files.download('/content/my_tiff_corr.tiff')"
      ],
      "metadata": {
        "colab": {
          "base_uri": "https://localhost:8080/",
          "height": 264
        },
        "id": "IZaogsrM-Zt0",
        "outputId": "4729c657-db90-4b8a-bb61-1966d75f1791"
      },
      "execution_count": 3,
      "outputs": [
        {
          "output_type": "stream",
          "name": "stderr",
          "text": [
            "  0%|          | 0/150 [00:00<?, ?it/s]\n"
          ]
        },
        {
          "output_type": "error",
          "ename": "NameError",
          "evalue": "ignored",
          "traceback": [
            "\u001b[0;31m---------------------------------------------------------------------------\u001b[0m",
            "\u001b[0;31mNameError\u001b[0m                                 Traceback (most recent call last)",
            "\u001b[0;32m<ipython-input-3-e96e04df474d>\u001b[0m in \u001b[0;36m<cell line: 15>\u001b[0;34m()\u001b[0m\n\u001b[1;32m     15\u001b[0m \u001b[0;32mfor\u001b[0m \u001b[0mpx\u001b[0m \u001b[0;32min\u001b[0m \u001b[0mtqdm\u001b[0m\u001b[0;34m(\u001b[0m\u001b[0mrange\u001b[0m\u001b[0;34m(\u001b[0m\u001b[0mim\u001b[0m\u001b[0;34m.\u001b[0m\u001b[0mshape\u001b[0m\u001b[0;34m[\u001b[0m\u001b[0;36m1\u001b[0m\u001b[0;34m]\u001b[0m\u001b[0;34m)\u001b[0m\u001b[0;34m)\u001b[0m\u001b[0;34m:\u001b[0m\u001b[0;34m\u001b[0m\u001b[0;34m\u001b[0m\u001b[0m\n\u001b[1;32m     16\u001b[0m     \u001b[0mydata\u001b[0m \u001b[0;34m=\u001b[0m \u001b[0mim\u001b[0m\u001b[0;34m[\u001b[0m\u001b[0mfit_range\u001b[0m\u001b[0;34m,\u001b[0m\u001b[0mpx\u001b[0m\u001b[0;34m]\u001b[0m\u001b[0;34m\u001b[0m\u001b[0;34m\u001b[0m\u001b[0m\n\u001b[0;32m---> 17\u001b[0;31m     \u001b[0mp\u001b[0m \u001b[0;34m=\u001b[0m \u001b[0mscipy\u001b[0m\u001b[0;34m.\u001b[0m\u001b[0moptimize\u001b[0m\u001b[0;34m.\u001b[0m\u001b[0mcurve_fit\u001b[0m\u001b[0;34m(\u001b[0m\u001b[0mexp_func\u001b[0m\u001b[0;34m,\u001b[0m \u001b[0mxdata_trunk\u001b[0m\u001b[0;34m,\u001b[0m \u001b[0mydata\u001b[0m\u001b[0;34m,\u001b[0m\u001b[0mp0\u001b[0m\u001b[0;34m=\u001b[0m\u001b[0mp0_1\u001b[0m\u001b[0;34m)\u001b[0m\u001b[0;34m\u001b[0m\u001b[0;34m\u001b[0m\u001b[0m\n\u001b[0m\u001b[1;32m     18\u001b[0m     \u001b[0ma\u001b[0m\u001b[0;34m[\u001b[0m\u001b[0mpx\u001b[0m\u001b[0;34m]\u001b[0m\u001b[0;34m=\u001b[0m\u001b[0mp\u001b[0m\u001b[0;34m[\u001b[0m\u001b[0;36m0\u001b[0m\u001b[0;34m]\u001b[0m\u001b[0;34m[\u001b[0m\u001b[0;36m0\u001b[0m\u001b[0;34m]\u001b[0m\u001b[0;34m\u001b[0m\u001b[0;34m\u001b[0m\u001b[0m\n\u001b[1;32m     19\u001b[0m     \u001b[0mb\u001b[0m\u001b[0;34m[\u001b[0m\u001b[0mpx\u001b[0m\u001b[0;34m]\u001b[0m\u001b[0;34m=\u001b[0m\u001b[0mp\u001b[0m\u001b[0;34m[\u001b[0m\u001b[0;36m0\u001b[0m\u001b[0;34m]\u001b[0m\u001b[0;34m[\u001b[0m\u001b[0;36m1\u001b[0m\u001b[0;34m]\u001b[0m\u001b[0;34m\u001b[0m\u001b[0;34m\u001b[0m\u001b[0m\n",
            "\u001b[0;31mNameError\u001b[0m: name 'p0_1' is not defined"
          ]
        }
      ]
    },
    {
      "cell_type": "code",
      "source": [
        "plt.plot(yhat[:,px])\n",
        "plt.plot(xdata_trunk,ydata)\n",
        "plt.show()"
      ],
      "metadata": {
        "id": "5CsDnJ4dC-yU"
      },
      "execution_count": null,
      "outputs": []
    },
    {
      "cell_type": "code",
      "source": [],
      "metadata": {
        "id": "Ne8W-7IntYkx"
      },
      "execution_count": null,
      "outputs": []
    },
    {
      "cell_type": "code",
      "source": [
        "# def exp_func_err(xdata,ydata,a,b,c):\n",
        "    # xdata = np.expand_dims(xdata,1)\n",
        "    # return np.sum(np.abs(ydata - a*np.exp(xdata/-b) + c).flatten())\n",
        "\n",
        "# im_test = im\n",
        "\n",
        "# fit_range=np.arange(500,1100)\n",
        "# xdata =  np.expand_dims(np.arange(im.shape[0]),1) * np.ones_like(im)\n",
        "# xdata_trunk=xdata[fit_range,1]\n",
        "# ydata = im_test[fit_range,:]\n",
        "# p0_1 = [8,6000,-4]\n",
        "# a=np.ones((1,im_test.shape[1]))*p0_1[0]\n",
        "# b=np.ones((1,im_test.shape[1]))*p0_1[1]\n",
        "# c=np.ones((1,im_test.shape[1]))*p0_1[2]\n",
        "\n",
        "\n",
        "\n",
        "# def exp_func(xdata,a,b,c):   \n",
        "#     a = np.expand_dims(a,1).T\n",
        "#     b = np.expand_dims(b,1).T\n",
        "#     c = np.expand_dims(c,1).T\n",
        "\n",
        "#     # print(a.shape,b.shape,c.shape)\n",
        "#     xdata = np.expand_dims(xdata,1)\n",
        "#     return a*np.exp(xdata/-b) + c\n",
        "\n",
        "# def exp_func_err(abc,xdata,ydata):    \n",
        "#     n = ydata.shape[1]\n",
        "#     # print(n)\n",
        "#     yhat = exp_func(xdata,abc[0:n],abc[n:n*2],abc[n*2:n*3])\n",
        "#     er = np.sum(np.square(ydata - yhat).flatten() )\n",
        "#     print(er)\n",
        "#     return er\n",
        "\n",
        "\n",
        "# abc = np.stack((a,b,c),0)\n",
        "# abc = abc.flatten()\n",
        "# # yhat = exp_func(xdata_trunk,abc[0:n],abc[n:n*2],abc[n*2:n*3])\n",
        "\n",
        "# res = scipy.optimize.minimize(exp_func_err, abc, args=(xdata_trunk,ydata),options={'maxiter':200,'disp':True})\n",
        "# # n=50\n",
        "# # \n",
        "# \n",
        "# "
      ],
      "metadata": {
        "id": "EkGIJ9lOTOo4"
      },
      "execution_count": null,
      "outputs": []
    },
    {
      "cell_type": "code",
      "source": [
        "# result = res['x']\n",
        "# yhat = exp_func(xdata_trunk,result[0:n],result[n:n*2],result[n*2:n*3])\n",
        "# plt.imshow(yhat.T)"
      ],
      "metadata": {
        "id": "pTiPkGVJT3WF"
      },
      "execution_count": null,
      "outputs": []
    },
    {
      "cell_type": "code",
      "source": [
        "# print(res)\n",
        "# f= res['x']\n",
        "# plt.plot(f)\n"
      ],
      "metadata": {
        "id": "-SUTRYYxj_Jd"
      },
      "execution_count": null,
      "outputs": []
    },
    {
      "cell_type": "code",
      "source": [
        "# from matplotlib import pyplot as plt\n",
        "# from sklearn.decomposition import FastICA, TruncatedSVD, SparsePCA\n",
        "# # import sklearn"
      ],
      "metadata": {
        "id": "NxeeUSxzzUNX"
      },
      "execution_count": null,
      "outputs": []
    },
    {
      "cell_type": "code",
      "source": [
        "# from sklearn.decomposition import NMF\n",
        "# n_components=12\n",
        "# offset = 4\n",
        "# model = NMF(n_components=n_components, init='random', random_state=0)\n",
        "# W = model.fit_transform(im_r+offset)\n",
        "# H = model.components_\n",
        "# fig,ax=plt.subplots()\n",
        "# ax.plot(W ) \n",
        "\n",
        "# h_r = np.reshape(H,[n_components,im_shape[1], im_shape[2]])\n",
        "# fig,ax=plt.subplots(2,int(n_components/2),figsize=(15,3))\n",
        "# ax = ax.flatten()\n",
        "# for ki in range(n_components):\n",
        "#     ax[ki].imshow(h_r[ki,:,:])\n",
        "\n",
        "# fig,ax=plt.subplots(2,int(n_components/2),figsize=(15,3))\n",
        "# ax = ax.flatten()\n",
        "# for ki in range(n_components):\n",
        "#     h_i = h_r[ki,:,:]\n",
        "#     ax[ki].plot( np.sum(h_i,axis=0))\n",
        "#     ax[ki].plot( np.sum(h_i,axis=1))# , np.arange(im_shape[1])"
      ],
      "metadata": {
        "id": "qt0jmCHs2_YJ"
      },
      "execution_count": null,
      "outputs": []
    },
    {
      "cell_type": "code",
      "source": [],
      "metadata": {
        "id": "-CWqcjvPBj-h"
      },
      "execution_count": null,
      "outputs": []
    },
    {
      "cell_type": "code",
      "source": [
        "# backlist = [0,1,2]\n",
        "\n",
        "# Background = W[:,backlist] @ H[backlist,:]\n",
        "# im_corr = im_r - Background - offset\n",
        "# # im_corr = (im_corr*im_r_std.T) + im_r_avg.T\n",
        "# plt.imshow(im_corr.T)\n",
        "# plt.colorbar()\n",
        "# im_corr = np.reshape(im_corr,[im_shape[0],im_shape[1], im_shape[2]])"
      ],
      "metadata": {
        "id": "Pg9TDI4iX51A"
      },
      "execution_count": null,
      "outputs": []
    },
    {
      "cell_type": "code",
      "source": [
        "# tifffile.imwrite('/content/my_tiff_corr.tiff', im_corr) #, imagej=True\n",
        "# print('downloading')\n",
        "# colab.files.download('/content/my_tiff_corr.tiff')"
      ],
      "metadata": {
        "id": "8GGEs2ih4NLz"
      },
      "execution_count": null,
      "outputs": []
    },
    {
      "cell_type": "code",
      "source": [
        "# from sklearn.utils.extmath import randomized_svd\n",
        "# n_components = 12\n",
        "# u, s, vt = randomized_svd(im_r,n_components=n_components,n_iter=5,random_state=None)\n",
        "# fig,ax=plt.subplots()\n",
        "# ax.plot(u)\n",
        "# ax.legend(np.arange(n_components))\n",
        "# vt_r = np.reshape(vt,[n_components,im_shape[1], im_shape[2]])\n",
        "# fig,ax=plt.subplots(2,int(n_components/2),figsize=(10,3))\n",
        "# ax = ax.flatten()\n",
        "# for ki in range(n_components):\n",
        "#     ax[ki].imshow(vt_r[ki,:,:])\n"
      ],
      "metadata": {
        "id": "ZDB0_ML6aGG4"
      },
      "execution_count": null,
      "outputs": []
    },
    {
      "cell_type": "code",
      "source": [
        "\n",
        "# ica = FastICA(n_components=n_components,random_state=0,whiten='unit-variance')\n",
        "# im_trans =  ica.fit_transform(im_r_n.T)\n",
        "# A_ = ica.mixing_  # Get estimated mixing matrix\n",
        "# plt.plot(A_)\n",
        "# plt.show()\n",
        "# plt.plot(im_trans.T)\n",
        "# plt.show()"
      ],
      "metadata": {
        "id": "S8lz22hTt3Nj"
      },
      "execution_count": null,
      "outputs": []
    }
  ]
}