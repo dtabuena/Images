{
  "nbformat": 4,
  "nbformat_minor": 0,
  "metadata": {
    "colab": {
      "provenance": [],
      "authorship_tag": "ABX9TyOmzZgqFkIMOP7Tgq+0i8Bg",
      "include_colab_link": true
    },
    "kernelspec": {
      "name": "python3",
      "display_name": "Python 3"
    },
    "language_info": {
      "name": "python"
    }
  },
  "cells": [
    {
      "cell_type": "markdown",
      "metadata": {
        "id": "view-in-github",
        "colab_type": "text"
      },
      "source": [
        "<a href=\"https://colab.research.google.com/github/dtabuena/Images/blob/main/DFOF.ipynb\" target=\"_parent\"><img src=\"https://colab.research.google.com/assets/colab-badge.svg\" alt=\"Open In Colab\"/></a>"
      ]
    },
    {
      "cell_type": "code",
      "source": [
        "\n",
        "def get_drobox_file(new_filename, link):\n",
        "    !wget -O $new_filename $link\n",
        "    return new_filename\n",
        "\n",
        "new_filename = 'my_tiff.tiff'\n",
        "link = 'https://www.dropbox.com/s/i9k6trbhpry0jt9/230515_001%5B1-3000_EX0%5D.TIF?dl=0'\n",
        "# !wget -O $new_filename $link\n",
        "get_drobox_file('my_tiff.tiff','https://www.dropbox.com/s/i9k6trbhpry0jt9/230515_001%5B1-3000_EX0%5D.TIF?dl=0')"
      ],
      "metadata": {
        "colab": {
          "base_uri": "https://localhost:8080/",
          "height": 403
        },
        "id": "X_eccEuroqCQ",
        "outputId": "a355280f-6961-4f3b-ba44-b5f70310b409"
      },
      "execution_count": 1,
      "outputs": [
        {
          "output_type": "stream",
          "name": "stdout",
          "text": [
            "--2023-05-16 05:26:25--  https://www.dropbox.com/s/i9k6trbhpry0jt9/230515_001%5B1-3000_EX0%5D.TIF?dl=0\n",
            "Resolving www.dropbox.com (www.dropbox.com)... 162.125.5.18, 2620:100:601d:18::a27d:512\n",
            "Connecting to www.dropbox.com (www.dropbox.com)|162.125.5.18|:443... connected.\n",
            "HTTP request sent, awaiting response... 302 Found\n",
            "Location: /s/raw/i9k6trbhpry0jt9/230515_001%5B1-3000_EX0%5D.TIF [following]\n",
            "--2023-05-16 05:26:25--  https://www.dropbox.com/s/raw/i9k6trbhpry0jt9/230515_001%5B1-3000_EX0%5D.TIF\n",
            "Reusing existing connection to www.dropbox.com:443.\n",
            "HTTP request sent, awaiting response... 302 Found\n",
            "Location: https://ucb79c42a430046551aa57e78768.dl.dropboxusercontent.com/cd/0/inline/B8J6OJ2P2ed1BDDzml8hkSgPW2GlfTtc_csVepDB8ePSZuokQTX9UithN1E7wjOAYDOXenYL7FGHhd3nHpAVV-tD4eCceFsye_FVzcgxx4y2w43FmmbLSoebMuNc3AyPY1dwUMKODGJIL6PgJK38OR0di0FzOckCZvh8pbcyROss6w/file# [following]\n",
            "--2023-05-16 05:26:26--  https://ucb79c42a430046551aa57e78768.dl.dropboxusercontent.com/cd/0/inline/B8J6OJ2P2ed1BDDzml8hkSgPW2GlfTtc_csVepDB8ePSZuokQTX9UithN1E7wjOAYDOXenYL7FGHhd3nHpAVV-tD4eCceFsye_FVzcgxx4y2w43FmmbLSoebMuNc3AyPY1dwUMKODGJIL6PgJK38OR0di0FzOckCZvh8pbcyROss6w/file\n",
            "Resolving ucb79c42a430046551aa57e78768.dl.dropboxusercontent.com (ucb79c42a430046551aa57e78768.dl.dropboxusercontent.com)... 162.125.5.15, 2620:100:601d:15::a27d:50f\n",
            "Connecting to ucb79c42a430046551aa57e78768.dl.dropboxusercontent.com (ucb79c42a430046551aa57e78768.dl.dropboxusercontent.com)|162.125.5.15|:443... connected.\n",
            "HTTP request sent, awaiting response... 200 OK\n",
            "Length: 8667624016 (8.1G) [image/tiff]\n",
            "Saving to: ‘my_tiff.tiff’\n",
            "\n",
            "my_tiff.tiff        100%[===================>]   8.07G  83.2MB/s    in 1m 56s  \n",
            "\n",
            "2023-05-16 05:28:22 (71.2 MB/s) - ‘my_tiff.tiff’ saved [8667624016/8667624016]\n",
            "\n"
          ]
        },
        {
          "output_type": "execute_result",
          "data": {
            "text/plain": [
              "'my_tiff.tiff'"
            ],
            "application/vnd.google.colaboratory.intrinsic+json": {
              "type": "string"
            }
          },
          "metadata": {},
          "execution_count": 1
        }
      ]
    },
    {
      "cell_type": "code",
      "source": [
        "# import numpy as np\n",
        "# from skimage import io\n",
        "# im = io.imread('/content/my_tiff.tiff')\n",
        "# print(im.shape)"
      ],
      "metadata": {
        "id": "GvfL5gCV9Lje"
      },
      "execution_count": 2,
      "outputs": []
    },
    {
      "cell_type": "code",
      "source": [
        "import tifffile\n",
        "im = tifffile.imread('/content/my_tiff.tiff', maxworkers=6)\n",
        "binsize = 4\n",
        "height = im.shape[1] // binsize\n",
        "width = im.shape[2] // binsize\n",
        "im = im[:, :height * binsize, : width * binsize]\n",
        "im = im.reshape(im.shape[0], height, binsize, width, binsize)\n",
        "ims = im.sum((2, 4), dtype='uint32')\n"
      ],
      "metadata": {
        "id": "uynyvL3FBDOY"
      },
      "execution_count": 10,
      "outputs": []
    },
    {
      "cell_type": "code",
      "source": [
        "tifffile.imwrite('temp_imgJ.tif', ims)"
      ],
      "metadata": {
        "id": "kr0Pdu3cCXoD"
      },
      "execution_count": 16,
      "outputs": []
    },
    {
      "cell_type": "code",
      "source": [
        "from matplotlib import pyplot as plt\n",
        "import matplotlib.animation as animation\n",
        "\n",
        "fig, ax = plt.subplots(figsize=(4, 4))\n",
        "\n",
        "frame = 0\n",
        "im = plt.imshow(ims[frame], origin='lower')\n",
        "plt.colorbar(shrink=0.5)\n",
        "\n",
        "def update(*args):\n",
        "    global frame\n",
        "\n",
        "    im.set_array(ims[frame])\n",
        "\n",
        "    frame += 1\n",
        "    frame %= len(ims)\n",
        "\n",
        "    return im,\n",
        "\n",
        "# ani = animation.FuncAnimation(fig, update, interval=500)\n",
        "ani = animation.FuncAnimation(fig, update, len(ims))\n",
        "writer = animation.ImageMagickFileWriter(fps=50)\n",
        "ani.save('movie.gif', writer=writer) "
      ],
      "metadata": {
        "id": "FKBuUzpSFT5h"
      },
      "execution_count": null,
      "outputs": []
    },
    {
      "cell_type": "code",
      "source": [
        "im = '_'"
      ],
      "metadata": {
        "id": "04kyRsDKErcL"
      },
      "execution_count": 19,
      "outputs": []
    },
    {
      "cell_type": "code",
      "source": [
        "ims.shape"
      ],
      "metadata": {
        "colab": {
          "base_uri": "https://localhost:8080/"
        },
        "id": "GFvUIOoODjk4",
        "outputId": "0ab85520-ba19-42e0-9682-e7499a2a2bf2"
      },
      "execution_count": 14,
      "outputs": [
        {
          "output_type": "execute_result",
          "data": {
            "text/plain": [
              "(3000, 300, 300)"
            ]
          },
          "metadata": {},
          "execution_count": 14
        }
      ]
    },
    {
      "cell_type": "code",
      "source": [
        "# import skimage\n",
        "# image_ds = skimage.transform.downscale_local_mean(im, [1, 4 ,4])"
      ],
      "metadata": {
        "id": "UBolYv60-oaU"
      },
      "execution_count": 4,
      "outputs": []
    },
    {
      "cell_type": "code",
      "source": [
        "# F0 = 1200\n"
      ],
      "metadata": {
        "id": "UjohHOf099-O"
      },
      "execution_count": 5,
      "outputs": []
    }
  ]
}