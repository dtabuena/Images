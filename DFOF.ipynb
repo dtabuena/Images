{
  "nbformat": 4,
  "nbformat_minor": 0,
  "metadata": {
    "colab": {
      "provenance": [],
      "authorship_tag": "ABX9TyMadnJBPAcN3oT+cPjvSVX5",
      "include_colab_link": true
    },
    "kernelspec": {
      "name": "python3",
      "display_name": "Python 3"
    },
    "language_info": {
      "name": "python"
    }
  },
  "cells": [
    {
      "cell_type": "markdown",
      "metadata": {
        "id": "view-in-github",
        "colab_type": "text"
      },
      "source": [
        "<a href=\"https://colab.research.google.com/github/dtabuena/Images/blob/main/DFOF.ipynb\" target=\"_parent\"><img src=\"https://colab.research.google.com/assets/colab-badge.svg\" alt=\"Open In Colab\"/></a>"
      ]
    },
    {
      "cell_type": "code",
      "source": [
        "\n",
        "def get_drobox_file(new_filename, link):\n",
        "    !wget -O $new_filename $link\n",
        "    return new_filename\n",
        "\n",
        "new_filename = 'my_tiff.tiff'\n",
        "link = 'https://www.dropbox.com/s/i9k6trbhpry0jt9/230515_001%5B1-3000_EX0%5D.TIF?dl=0'\n",
        "# !wget -O $new_filename $link\n",
        "get_drobox_file('my_tiff.tiff','https://www.dropbox.com/s/i9k6trbhpry0jt9/230515_001%5B1-3000_EX0%5D.TIF?dl=0')"
      ],
      "metadata": {
        "colab": {
          "base_uri": "https://localhost:8080/"
        },
        "id": "X_eccEuroqCQ",
        "outputId": "679efe73-7f00-4518-e699-23104c20bdd2"
      },
      "execution_count": null,
      "outputs": [
        {
          "output_type": "stream",
          "name": "stdout",
          "text": [
            "--2023-05-16 05:16:09--  https://www.dropbox.com/s/i9k6trbhpry0jt9/230515_001%5B1-3000_EX0%5D.TIF?dl=0\n",
            "Resolving www.dropbox.com (www.dropbox.com)... 162.125.5.18, 2620:100:601d:18::a27d:512\n",
            "Connecting to www.dropbox.com (www.dropbox.com)|162.125.5.18|:443... connected.\n",
            "HTTP request sent, awaiting response... 302 Found\n",
            "Location: /s/raw/i9k6trbhpry0jt9/230515_001%5B1-3000_EX0%5D.TIF [following]\n",
            "--2023-05-16 05:16:10--  https://www.dropbox.com/s/raw/i9k6trbhpry0jt9/230515_001%5B1-3000_EX0%5D.TIF\n",
            "Reusing existing connection to www.dropbox.com:443.\n",
            "HTTP request sent, awaiting response... 302 Found\n",
            "Location: https://uc3f2b22137b0c32c1dd1da6a8e1.dl.dropboxusercontent.com/cd/0/inline/B8KibMRgN5x5USNeacQWSMUgtMFtd98XWhgJf31Whi66CLfaheNK75ceGKlQLF6968wYLyXMngaCNkDCMWK8ElnqQkGi71BMuobpPtM6tNZNsolytbxE7DsaS2piiW2JDp801ODygqtSQaONDBcVCMv13d1vrKjWw3LCLfUP7ZkdUg/file# [following]\n",
            "--2023-05-16 05:16:10--  https://uc3f2b22137b0c32c1dd1da6a8e1.dl.dropboxusercontent.com/cd/0/inline/B8KibMRgN5x5USNeacQWSMUgtMFtd98XWhgJf31Whi66CLfaheNK75ceGKlQLF6968wYLyXMngaCNkDCMWK8ElnqQkGi71BMuobpPtM6tNZNsolytbxE7DsaS2piiW2JDp801ODygqtSQaONDBcVCMv13d1vrKjWw3LCLfUP7ZkdUg/file\n",
            "Resolving uc3f2b22137b0c32c1dd1da6a8e1.dl.dropboxusercontent.com (uc3f2b22137b0c32c1dd1da6a8e1.dl.dropboxusercontent.com)... 162.125.5.15, 2620:100:601d:15::a27d:50f\n",
            "Connecting to uc3f2b22137b0c32c1dd1da6a8e1.dl.dropboxusercontent.com (uc3f2b22137b0c32c1dd1da6a8e1.dl.dropboxusercontent.com)|162.125.5.15|:443... connected.\n",
            "HTTP request sent, awaiting response... 200 OK\n",
            "Length: 8667624016 (8.1G) [image/tiff]\n",
            "Saving to: ‘my_tiff.tiff’\n",
            "\n",
            "my_tiff.tiff         76%[==============>     ]   6.17G  39.2MB/s    eta 27s    "
          ]
        }
      ]
    },
    {
      "cell_type": "code",
      "source": [
        "import numpy as np\n",
        "from skimage import io\n",
        "im = io.imread('/content/my_tiff.tiff')\n",
        "print(im.shape)"
      ],
      "metadata": {
        "id": "GvfL5gCV9Lje"
      },
      "execution_count": null,
      "outputs": []
    },
    {
      "cell_type": "code",
      "source": [
        "import skimage\n",
        "image_ds = skimage.transform.downscale_local_mean(im, [1, 4 ,4])"
      ],
      "metadata": {
        "id": "UBolYv60-oaU"
      },
      "execution_count": null,
      "outputs": []
    },
    {
      "cell_type": "code",
      "source": [
        "F0 = 120\n"
      ],
      "metadata": {
        "id": "UjohHOf099-O"
      },
      "execution_count": null,
      "outputs": []
    }
  ]
}