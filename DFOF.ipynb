{
  "nbformat": 4,
  "nbformat_minor": 0,
  "metadata": {
    "colab": {
      "provenance": [],
      "authorship_tag": "ABX9TyPHyDtWeKBIFshj8VzM6z4o",
      "include_colab_link": true
    },
    "kernelspec": {
      "name": "python3",
      "display_name": "Python 3"
    },
    "language_info": {
      "name": "python"
    }
  },
  "cells": [
    {
      "cell_type": "markdown",
      "metadata": {
        "id": "view-in-github",
        "colab_type": "text"
      },
      "source": [
        "<a href=\"https://colab.research.google.com/github/dtabuena/Images/blob/main/DFOF.ipynb\" target=\"_parent\"><img src=\"https://colab.research.google.com/assets/colab-badge.svg\" alt=\"Open In Colab\"/></a>"
      ]
    },
    {
      "cell_type": "code",
      "source": [
        "import tifffile\n",
        "import numpy as np\n",
        "from google import colab\n",
        "from matplotlib import pyplot as plt\n",
        "import scipy\n",
        "from tqdm import tqdm\n",
        "import matplotlib as mpl\n",
        "\n",
        "# # Open Bin Save\n",
        "def get_drobox_file(new_filename, link):\n",
        "    !wget -O $new_filename $link\n",
        "    return new_filename\n",
        "\n",
        "\n",
        "def bin_stack(im,bin_factor):\n",
        "    height = im.shape[1] // bin_factor\n",
        "    width = im.shape[2] // bin_factor\n",
        "    im = im[:, :height * bin_factor, : width * bin_factor]\n",
        "    im = im.reshape(im.shape[0], height, bin_factor, width, bin_factor)\n",
        "    im = im.sum((2, 4), dtype='uint32')\n",
        "    return im\n",
        "\n",
        "\n",
        "def open_bin_save(db_link,new_name,bin_factor):\n",
        "    print('importing')\n",
        "    _ = get_drobox_file(new_name, db_link)\n",
        "    print('reading')\n",
        "    im = tifffile.imread('/content/'+new_name, maxworkers=6)\n",
        "    print('binning')\n",
        "    im = bin_stack(im, bin_factor)\n",
        "    print('saving')\n",
        "    tifffile.imwrite('/content/my_tiff_bin.tiff', im) #, imagej=True\n",
        "\n",
        "    # !zip -r '/content/my_tiff_bin.zip' '/content/my_tiff_bin.tiff'\n",
        "\n",
        "    print('downloading')\n",
        "    colab.files.download('/content/my_tiff_bin.tiff')\n",
        "    return im\n",
        "\n"
      ],
      "metadata": {
        "id": "w_i8byzQGmL0"
      },
      "execution_count": 2,
      "outputs": []
    },
    {
      "cell_type": "code",
      "source": [],
      "metadata": {
        "id": "K1ylLUiCn2Y9"
      },
      "execution_count": 2,
      "outputs": []
    },
    {
      "cell_type": "code",
      "source": [
        "# bleach_trace = exp_func(np.arange(len(trace)), .2, 20000, .8)\n",
        "# fig,ax=plt.subplots()\n",
        "# ax.plot(trace_dff,'k')\n",
        "# ax.plot(bleach_trace,'r')"
      ],
      "metadata": {
        "id": "Swf7a_XXy00Z"
      },
      "execution_count": 3,
      "outputs": []
    },
    {
      "cell_type": "code",
      "source": [
        "from scipy.signal import butter,filtfilt\n",
        "\n",
        "def df_trace(trace,ref_inds):\n",
        "    f0 = np.mean(trace[ref_inds])\n",
        "    return (trace-f0)/f0\n",
        "\n",
        "def exp_func(xdata,a,b,c):\n",
        "    return a*np.exp(xdata/-b) + c\n",
        "\n",
        "def z_trace(trace):\n",
        "    std = np.std(trace)\n",
        "    mean = np.mean(trace)\n",
        "    z_param =  {'std':std, 'mean':mean}\n",
        "    return (trace-mean)/std, z_param\n",
        "\n",
        "def bleach_cor(trace,ref_inds,lpf=0.2,order=1):\n",
        "    b, a = butter(order, lpf, btype='lowpass')\n",
        "    trace_f = filtfilt(b, a, trace)\n",
        "    y_fittable = trace_f[ref_inds]\n",
        "    p0= [np.max(trace), 20000, np.min(trace)]\n",
        "    min_bound = [0,1000,0]\n",
        "    max_bound = [np.max(trace)*2,np.inf,np.max(trace)*2]\n",
        "    p = scipy.optimize.curve_fit(exp_func, ref_inds, y_fittable,p0=p0,bounds=(min_bound,max_bound))\n",
        "    bleach_trace = exp_func(np.arange(len(trace)), p[0][0], p[0][1], p[0][2])\n",
        "    trace_corr = trace/bleach_trace * bleach_trace[0]\n",
        "    return trace_corr, bleach_trace\n",
        "\n",
        "\n",
        "def proccess_pxl(trace,ref_inds,df_ind):\n",
        "    trace = trace.astype('float32')    \n",
        "    trace_corr, bleach_trace = bleach_cor(trace,ref_inds)\n",
        "    trace_df = df_trace(trace_corr,df_inds)\n",
        "    return trace_df\n",
        "\n",
        "\n",
        "\n"
      ],
      "metadata": {
        "id": "AweL9ZnKq-HV"
      },
      "execution_count": 4,
      "outputs": []
    },
    {
      "cell_type": "code",
      "source": [
        "im_max = np.max(im,axis=0)\n",
        "im_n = im/im_max\n",
        "im_rep = np.mean(im_n,axis=1)\n",
        "\n",
        "_, bleach_trace = bleach_cor(im_rep,ref_inds)\n",
        "bleach_trace = np.expand_dims(bleach_trace,1)\n",
        "im_a = im/bleach_trace * bleach_trace[0]\n"
      ],
      "metadata": {
        "id": "pKADMJGtqiX6"
      },
      "execution_count": 131,
      "outputs": []
    },
    {
      "cell_type": "code",
      "source": [
        "new_name = 'my_tiff.tiff'\n",
        "db_link = 'https://www.dropbox.com/s/25s9avjszghte1k/s3_cnt%5B1-5000_EX0%5D.TIF?dl=0'\n",
        "bin_factor=10\n",
        "\n",
        "# _ = get_drobox_file(new_name, db_link)\n",
        "im = tifffile.imread('/content/'+new_name, maxworkers=6)\n",
        "if bin_factor>1: im = bin_stack(im, bin_factor)\n",
        "\n",
        "og_shape = im.shape\n",
        "im = np.reshape(im,[og_shape[0],og_shape[1]*og_shape[2]])\n",
        "print(og_shape)"
      ],
      "metadata": {
        "id": "yL4jJ6iWDbhO",
        "outputId": "314c636a-e360-4875-df7c-3152b0ac1532",
        "colab": {
          "base_uri": "https://localhost:8080/"
        }
      },
      "execution_count": 123,
      "outputs": [
        {
          "output_type": "stream",
          "name": "stdout",
          "text": [
            "(5000, 60, 60)\n"
          ]
        }
      ]
    },
    {
      "cell_type": "code",
      "source": [
        "# im =im.astype('float32')\n",
        "# ref_inds= np.concatenate([np.arange(100,1000),np.arange(4980,4999)])\n",
        "# df_inds = np.arange(900,1000)\n",
        "# for pix in tqdm( range(im.shape[1]) ):\n",
        "#     im[:,pix] = proccess_pxl(im[:,pix],ref_inds,df_inds)\n",
        "\n",
        "tifffile.imwrite('/content/my_tiff_corr.tiff', np.reshape(im_a ,og_shape) ) #, imagej=True\n",
        "print('downloading')\n",
        "colab.files.download('/content/my_tiff_corr.tiff')"
      ],
      "metadata": {
        "colab": {
          "base_uri": "https://localhost:8080/",
          "height": 35
        },
        "id": "M59uVLZ7ujTw",
        "outputId": "07909d1c-d172-4493-a836-e71616ec13f9"
      },
      "execution_count": 132,
      "outputs": [
        {
          "output_type": "stream",
          "name": "stdout",
          "text": [
            "downloading\n"
          ]
        },
        {
          "output_type": "display_data",
          "data": {
            "text/plain": [
              "<IPython.core.display.Javascript object>"
            ],
            "application/javascript": [
              "\n",
              "    async function download(id, filename, size) {\n",
              "      if (!google.colab.kernel.accessAllowed) {\n",
              "        return;\n",
              "      }\n",
              "      const div = document.createElement('div');\n",
              "      const label = document.createElement('label');\n",
              "      label.textContent = `Downloading \"${filename}\": `;\n",
              "      div.appendChild(label);\n",
              "      const progress = document.createElement('progress');\n",
              "      progress.max = size;\n",
              "      div.appendChild(progress);\n",
              "      document.body.appendChild(div);\n",
              "\n",
              "      const buffers = [];\n",
              "      let downloaded = 0;\n",
              "\n",
              "      const channel = await google.colab.kernel.comms.open(id);\n",
              "      // Send a message to notify the kernel that we're ready.\n",
              "      channel.send({})\n",
              "\n",
              "      for await (const message of channel.messages) {\n",
              "        // Send a message to notify the kernel that we're ready.\n",
              "        channel.send({})\n",
              "        if (message.buffers) {\n",
              "          for (const buffer of message.buffers) {\n",
              "            buffers.push(buffer);\n",
              "            downloaded += buffer.byteLength;\n",
              "            progress.value = downloaded;\n",
              "          }\n",
              "        }\n",
              "      }\n",
              "      const blob = new Blob(buffers, {type: 'application/binary'});\n",
              "      const a = document.createElement('a');\n",
              "      a.href = window.URL.createObjectURL(blob);\n",
              "      a.download = filename;\n",
              "      div.appendChild(a);\n",
              "      a.click();\n",
              "      div.remove();\n",
              "    }\n",
              "  "
            ]
          },
          "metadata": {}
        },
        {
          "output_type": "display_data",
          "data": {
            "text/plain": [
              "<IPython.core.display.Javascript object>"
            ],
            "application/javascript": [
              "download(\"download_823f274d-df60-4e28-9c38-ae74bc4fb380\", \"my_tiff_corr.tiff\", 144890094)"
            ]
          },
          "metadata": {}
        }
      ]
    },
    {
      "cell_type": "code",
      "source": [
        "# plt.plot(yhat[:,px])\n",
        "# plt.plot(xdata_trunk,ydata)\n",
        "# plt.show()"
      ],
      "metadata": {
        "id": "5CsDnJ4dC-yU"
      },
      "execution_count": 9,
      "outputs": []
    },
    {
      "cell_type": "code",
      "source": [],
      "metadata": {
        "id": "2YWwEAdfqeTe"
      },
      "execution_count": null,
      "outputs": []
    },
    {
      "cell_type": "code",
      "source": [
        "def exp_func_n(xdata,a,b,c):   \n",
        "    a = np.expand_dims(a,1).T\n",
        "    b = np.expand_dims(b,1).T\n",
        "    c = np.expand_dims(c,1).T\n",
        "    xdata = np.expand_dims(xdata,1)\n",
        "    # print(a.shape,b.shape,c.shape,xdata.shape)\n",
        "    y_hat = a*np.exp(xdata/-b) + c\n",
        "    return y_hat\n",
        "\n",
        "def exp_func_err(abc,xdata,ydata):\n",
        "    # print(xdata.shape,ydata.shape,abc.shape)\n",
        "    n = ydata.shape[1]\n",
        "    yhat = exp_func_n(xdata,abc[0:n],abc[n:n*2],abc[n*2:n*3])\n",
        "    # print(yhat.shape,ydata.shape)\n",
        "    er = np.sum(np.square(ydata - yhat).flatten() )\n",
        "    print('er',er)\n",
        "    return er\n",
        "\n",
        "xdata = np.arange(im.shape[0])\n",
        "xdata_trunk = xdata[ref_inds]\n",
        "ydata = im[xdata_trunk,:]\n",
        "\n",
        "ydata_max = np.max(ydata,axis=0)\n",
        "\n",
        "ydata = ydata/ydata_max\n",
        "# print(ydata.shape)\n",
        "\n",
        "min_bounds = [0,1000,0]\n",
        "max_bounds = [2,100000,np.max(ydata)*2]\n",
        "\n",
        "a = np.ones(ydata.shape[1])*max_bounds[0]/2\n",
        "b = np.ones(ydata.shape[1])*min_bounds[1]*10\n",
        "c = np.ones(ydata.shape[1])*min_bounds[2]/2\n",
        "abc = np.concatenate([a,b,c])\n",
        "\n",
        "\n",
        "\n",
        "fig,ax=plt.subplots(1,2)\n",
        "pos0 = ax[0].imshow(ydata.T)\n",
        "fig.colorbar(pos0, ax=ax[0])\n",
        "\n",
        "y_hat = exp_func_n(xdata_trunk,a,b,c)\n",
        "pos1 = ax[1].imshow(y_hat.T)\n",
        "fig.colorbar(pos1, ax=ax[1])\n",
        "\n",
        "\n",
        "res = scipy.optimize.minimize(exp_func_err, abc, args=(xdata_trunk,ydata),options={'maxiter':10,'disp':True})"
      ],
      "metadata": {
        "id": "Ne8W-7IntYkx"
      },
      "execution_count": null,
      "outputs": []
    },
    {
      "cell_type": "code",
      "source": [],
      "metadata": {
        "id": "Y-7DDfqVmrS7",
        "outputId": "86c36682-0db0-4855-baf5-3c0b9e810b38",
        "colab": {
          "base_uri": "https://localhost:8080/",
          "height": 463
        }
      },
      "execution_count": 105,
      "outputs": [
        {
          "output_type": "execute_result",
          "data": {
            "text/plain": [
              "<matplotlib.colorbar.Colorbar at 0x7fb2dd283b20>"
            ]
          },
          "metadata": {},
          "execution_count": 105
        },
        {
          "output_type": "display_data",
          "data": {
            "text/plain": [
              "<Figure size 640x480 with 4 Axes>"
            ],
            "image/png": "[encoded data removed]"
          },
          "metadata": {}
        }
      ]
    },
    {
      "cell_type": "code",
      "source": [
        "# def exp_func_err(xdata,ydata,a,b,c):\n",
        "    # xdata = np.expand_dims(xdata,1)\n",
        "    # return np.sum(np.abs(ydata - a*np.exp(xdata/-b) + c).flatten())\n",
        "\n",
        "# im_test = im\n",
        "\n",
        "# fit_range=np.arange(500,1100)\n",
        "# xdata =  np.expand_dims(np.arange(im.shape[0]),1) * np.ones_like(im)\n",
        "# xdata_trunk=xdata[fit_range,1]\n",
        "# ydata = im_test[fit_range,:]\n",
        "# p0_1 = [8,6000,-4]\n",
        "# a=np.ones((1,im_test.shape[1]))*p0_1[0]\n",
        "# b=np.ones((1,im_test.shape[1]))*p0_1[1]\n",
        "# c=np.ones((1,im_test.shape[1]))*p0_1[2]\n",
        "\n",
        "\n",
        "\n",
        "# def exp_func(xdata,a,b,c):   \n",
        "#     a = np.expand_dims(a,1).T\n",
        "#     b = np.expand_dims(b,1).T\n",
        "#     c = np.expand_dims(c,1).T\n",
        "\n",
        "#     # print(a.shape,b.shape,c.shape)\n",
        "#     xdata = np.expand_dims(xdata,1)\n",
        "#     return a*np.exp(xdata/-b) + c\n",
        "\n",
        "# def exp_func_err(abc,xdata,ydata):    \n",
        "#     n = ydata.shape[1]\n",
        "#     # print(n)\n",
        "#     yhat = exp_func(xdata,abc[0:n],abc[n:n*2],abc[n*2:n*3])\n",
        "#     er = np.sum(np.square(ydata - yhat).flatten() )\n",
        "#     print(er)\n",
        "#     return er\n",
        "\n",
        "\n",
        "# abc = np.stack((a,b,c),0)\n",
        "# abc = abc.flatten()\n",
        "# # yhat = exp_func(xdata_trunk,abc[0:n],abc[n:n*2],abc[n*2:n*3])\n",
        "\n",
        "# res = scipy.optimize.minimize(exp_func_err, abc, args=(xdata_trunk,ydata),options={'maxiter':200,'disp':True})\n",
        "# # n=50\n",
        "# # \n",
        "# \n",
        "# "
      ],
      "metadata": {
        "id": "EkGIJ9lOTOo4"
      },
      "execution_count": 10,
      "outputs": []
    },
    {
      "cell_type": "code",
      "source": [
        "# result = res['x']\n",
        "# yhat = exp_func(xdata_trunk,result[0:n],result[n:n*2],result[n*2:n*3])\n",
        "# plt.imshow(yhat.T)"
      ],
      "metadata": {
        "id": "pTiPkGVJT3WF"
      },
      "execution_count": 11,
      "outputs": []
    },
    {
      "cell_type": "code",
      "source": [
        "# print(res)\n",
        "# f= res['x']\n",
        "# plt.plot(f)\n"
      ],
      "metadata": {
        "id": "-SUTRYYxj_Jd"
      },
      "execution_count": 12,
      "outputs": []
    },
    {
      "cell_type": "code",
      "source": [
        "# from matplotlib import pyplot as plt\n",
        "# from sklearn.decomposition import FastICA, TruncatedSVD, SparsePCA\n",
        "# # import sklearn"
      ],
      "metadata": {
        "id": "NxeeUSxzzUNX"
      },
      "execution_count": 13,
      "outputs": []
    },
    {
      "cell_type": "code",
      "source": [
        "# from sklearn.decomposition import NMF\n",
        "# n_components=12\n",
        "# offset = 4\n",
        "# model = NMF(n_components=n_components, init='random', random_state=0)\n",
        "# W = model.fit_transform(im_r+offset)\n",
        "# H = model.components_\n",
        "# fig,ax=plt.subplots()\n",
        "# ax.plot(W ) \n",
        "\n",
        "# h_r = np.reshape(H,[n_components,im_shape[1], im_shape[2]])\n",
        "# fig,ax=plt.subplots(2,int(n_components/2),figsize=(15,3))\n",
        "# ax = ax.flatten()\n",
        "# for ki in range(n_components):\n",
        "#     ax[ki].imshow(h_r[ki,:,:])\n",
        "\n",
        "# fig,ax=plt.subplots(2,int(n_components/2),figsize=(15,3))\n",
        "# ax = ax.flatten()\n",
        "# for ki in range(n_components):\n",
        "#     h_i = h_r[ki,:,:]\n",
        "#     ax[ki].plot( np.sum(h_i,axis=0))\n",
        "#     ax[ki].plot( np.sum(h_i,axis=1))# , np.arange(im_shape[1])"
      ],
      "metadata": {
        "id": "qt0jmCHs2_YJ"
      },
      "execution_count": 14,
      "outputs": []
    },
    {
      "cell_type": "code",
      "source": [],
      "metadata": {
        "id": "-CWqcjvPBj-h"
      },
      "execution_count": 14,
      "outputs": []
    },
    {
      "cell_type": "code",
      "source": [
        "# backlist = [0,1,2]\n",
        "\n",
        "# Background = W[:,backlist] @ H[backlist,:]\n",
        "# im_corr = im_r - Background - offset\n",
        "# # im_corr = (im_corr*im_r_std.T) + im_r_avg.T\n",
        "# plt.imshow(im_corr.T)\n",
        "# plt.colorbar()\n",
        "# im_corr = np.reshape(im_corr,[im_shape[0],im_shape[1], im_shape[2]])"
      ],
      "metadata": {
        "id": "Pg9TDI4iX51A"
      },
      "execution_count": 15,
      "outputs": []
    },
    {
      "cell_type": "code",
      "source": [
        "# tifffile.imwrite('/content/my_tiff_corr.tiff', im_corr) #, imagej=True\n",
        "# print('downloading')\n",
        "# colab.files.download('/content/my_tiff_corr.tiff')"
      ],
      "metadata": {
        "id": "8GGEs2ih4NLz"
      },
      "execution_count": 16,
      "outputs": []
    },
    {
      "cell_type": "code",
      "source": [
        "# from sklearn.utils.extmath import randomized_svd\n",
        "# n_components = 12\n",
        "# u, s, vt = randomized_svd(im_r,n_components=n_components,n_iter=5,random_state=None)\n",
        "# fig,ax=plt.subplots()\n",
        "# ax.plot(u)\n",
        "# ax.legend(np.arange(n_components))\n",
        "# vt_r = np.reshape(vt,[n_components,im_shape[1], im_shape[2]])\n",
        "# fig,ax=plt.subplots(2,int(n_components/2),figsize=(10,3))\n",
        "# ax = ax.flatten()\n",
        "# for ki in range(n_components):\n",
        "#     ax[ki].imshow(vt_r[ki,:,:])\n"
      ],
      "metadata": {
        "id": "ZDB0_ML6aGG4"
      },
      "execution_count": 17,
      "outputs": []
    },
    {
      "cell_type": "code",
      "source": [
        "\n",
        "# ica = FastICA(n_components=n_components,random_state=0,whiten='unit-variance')\n",
        "# im_trans =  ica.fit_transform(im_r_n.T)\n",
        "# A_ = ica.mixing_  # Get estimated mixing matrix\n",
        "# plt.plot(A_)\n",
        "# plt.show()\n",
        "# plt.plot(im_trans.T)\n",
        "# plt.show()"
      ],
      "metadata": {
        "id": "S8lz22hTt3Nj"
      },
      "execution_count": 18,
      "outputs": []
    }
  ]
}