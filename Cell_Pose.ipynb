{
  "cells": [
    {
      "cell_type": "markdown",
      "metadata": {
        "id": "view-in-github",
        "colab_type": "text"
      },
      "source": [
        "<a href=\"https://colab.research.google.com/github/dtabuena/Images/blob/main/Cell_Pose.ipynb\" target=\"_parent\"><img src=\"https://colab.research.google.com/assets/colab-badge.svg\" alt=\"Open In Colab\"/></a>"
      ]
    },
    {
      "cell_type": "code",
      "execution_count": null,
      "metadata": {
        "colab": {
          "base_uri": "https://localhost:8080/"
        },
        "id": "nuvFURZJqTKl",
        "outputId": "04b8a106-95c7-4c7a-9815-04feba74cd50"
      },
      "outputs": [
        {
          "name": "stdout",
          "output_type": "stream",
          "text": [
            "Looking in indexes: https://pypi.org/simple, https://us-python.pkg.dev/colab-wheels/public/simple/\n",
            "Requirement already satisfied: python-bioformats in /usr/local/lib/python3.7/dist-packages (4.0.6)\n",
            "Requirement already satisfied: future>=0.18.2 in /usr/local/lib/python3.7/dist-packages (from python-bioformats) (0.18.2)\n",
            "Requirement already satisfied: boto3>=1.14.23 in /usr/local/lib/python3.7/dist-packages (from python-bioformats) (1.24.90)\n",
            "Requirement already satisfied: python-javabridge==4.0.3 in /usr/local/lib/python3.7/dist-packages (from python-bioformats) (4.0.3)\n",
            "Requirement already satisfied: numpy>=1.20.1 in /usr/local/lib/python3.7/dist-packages (from python-javabridge==4.0.3->python-bioformats) (1.21.6)\n",
            "Requirement already satisfied: jmespath<2.0.0,>=0.7.1 in /usr/local/lib/python3.7/dist-packages (from boto3>=1.14.23->python-bioformats) (1.0.1)\n",
            "Requirement already satisfied: s3transfer<0.7.0,>=0.6.0 in /usr/local/lib/python3.7/dist-packages (from boto3>=1.14.23->python-bioformats) (0.6.0)\n",
            "Requirement already satisfied: botocore<1.28.0,>=1.27.90 in /usr/local/lib/python3.7/dist-packages (from boto3>=1.14.23->python-bioformats) (1.27.90)\n",
            "Requirement already satisfied: urllib3<1.27,>=1.25.4 in /usr/local/lib/python3.7/dist-packages (from botocore<1.28.0,>=1.27.90->boto3>=1.14.23->python-bioformats) (1.26.12)\n",
            "Requirement already satisfied: python-dateutil<3.0.0,>=2.1 in /usr/local/lib/python3.7/dist-packages (from botocore<1.28.0,>=1.27.90->boto3>=1.14.23->python-bioformats) (2.8.2)\n",
            "Requirement already satisfied: six>=1.5 in /usr/local/lib/python3.7/dist-packages (from python-dateutil<3.0.0,>=2.1->botocore<1.28.0,>=1.27.90->boto3>=1.14.23->python-bioformats) (1.15.0)\n"
          ]
        }
      ],
      "source": [
        "!pip install python-bioformats\n"
      ]
    },
    {
      "cell_type": "code",
      "execution_count": null,
      "metadata": {
        "colab": {
          "base_uri": "https://localhost:8080/"
        },
        "id": "_MEmlpvSqlsv",
        "outputId": "48e6f15f-e714-425e-d440-29628be060af"
      },
      "outputs": [
        {
          "name": "stderr",
          "output_type": "stream",
          "text": [
            "/usr/local/lib/python3.7/dist-packages/requests/__init__.py:91: RequestsDependencyWarning: urllib3 (1.26.12) or chardet (3.0.4) doesn't match a supported version!\n",
            "  RequestsDependencyWarning)\n"
          ]
        },
        {
          "name": "stdout",
          "output_type": "stream",
          "text": [
            "Archive:  /content/images.zip\n",
            "warning:  stripped absolute path spec from /\n",
            "mapname:  conversion of  failed\n",
            "replace /content/images/MDGA2_08-24-22_DG_40X_2XZoom_1.oir? [y]es, [n]o, [A]ll, [N]one, [r]ename:  extracting: /content/images/MDGA2_08-24-22_DG_40X_2XZoom_1.oir  \n",
            " extracting: /content/images/MDGA2_08-25-22_DG_40X_2XZoom_1.oir  \n",
            " extracting: /content/images/Nell2_08-04-22_DG_40X_2XZoom_1.oir  \n",
            " extracting: /content/images/Nell2_08-04-22_CA3_40X_2XZoom_1.oir  \n",
            " extracting: /content/images/RNF182_08-15-22_CA3_40X_2XZoom_1.oir  \n",
            " extracting: /content/images/MDGA2_08-22-22_S001_DG_40X_2XZoom_1.oir  \n",
            " extracting: /content/images/Nell2_08-10-22__S001_DG_40X_2XZoom_2.oir  \n",
            " extracting: /content/images/RNF182_08-17-22_S001_DG_40X_2XZoom_1.oir  \n",
            " extracting: /content/images/Nell2_08-10-22__S001_CA3_40X_2XZoom_2.oir  \n",
            " extracting: /content/images/RNF182_08-12-22_S001_CA3_40X_2XZoom_1.oir  \n",
            " extracting: /content/images/Other/DifferentExposure_RNF182_08-15-22_DG_40X_2XZoom_1.oir  \n",
            " extracting: /content/images/Other/BrighterSettings_Nell2_08-10-22_S001_DG_40X_2XZoom_1.oir  \n",
            " extracting: /content/images/Other/BrighterSettings_Nell2_08-10-22_S001_CA3_40X_2XZoom_1.oir  \n"
          ]
        }
      ],
      "source": [
        "import numpy as np\n",
        "import javabridge\n",
        "import bioformats\n",
        "import skimage\n",
        "from skimage import filters\n",
        "from matplotlib import pyplot as plt\n",
        "import matplotlib\n",
        "import os\n",
        "import scipy\n",
        "from scipy import ndimage as ndi\n",
        "javabridge.start_vm(class_path=bioformats.JARS)\n",
        "\n",
        "\n",
        "\n",
        "def get_drobox_folder(link, new_filename):\n",
        "    'Download a folder from dropbox and unzip'\n",
        "    zipped_file_path = \"/content/\"+new_filename + \".zip\"\n",
        "    unzipped_file_path = \"/content/\"+new_filename\n",
        "    if not( os.path.exists(zipped_file_path)):\n",
        "        !wget -O $zipped_file_path $link    # download with new name\n",
        "    !echo A | unzip $zipped_file_path -d $unzipped_file_path \n",
        "    return new_filename\n",
        "\n",
        "def get_sub_files(rootdir):\n",
        "    'Recursively search subfolders and return a list of all files'\n",
        "    file_list =[]\n",
        "    for rootdir, dirs, files in os.walk(rootdir): \n",
        "            file_list.extend([os.path.join(rootdir,f) for f in files])\n",
        "    return file_list\n",
        "\n",
        "folder = get_drobox_folder('https://www.dropbox.com/sh/rv7944fsk9p1mvk/AAC0E8ZTPkr-pfgK8zdC730Sa?dl=0', 'images')\n",
        "file_list = get_sub_files(folder)\n",
        "file_list.sort()"
      ]
    },
    {
      "cell_type": "code",
      "execution_count": null,
      "metadata": {
        "colab": {
          "base_uri": "https://localhost:8080/"
        },
        "id": "VwM25bdvqg2n",
        "outputId": "9d096cc6-8f10-46ee-d799-8abf043fd3e6"
      },
      "outputs": [
        {
          "name": "stdout",
          "output_type": "stream",
          "text": [
            "800 800 3 16\n",
            "(800, 800, 3, 16)\n"
          ]
        }
      ],
      "source": [
        "my_reader = bioformats.get_image_reader('my_image', file_list[1])\n",
        "\n",
        "c_dim = my_reader.rdr.getSizeC()\n",
        "z_dim = my_reader.rdr.getSizeZ()\n",
        "x_dim = my_reader.rdr.getSizeX()\n",
        "y_dim = my_reader.rdr.getSizeY()\n",
        "print(x_dim,y_dim,c_dim,z_dim)\n",
        "\n",
        "image = np.empty([x_dim,y_dim,c_dim,z_dim])\n",
        "for zi in range(z_dim):\n",
        "    img_zi = my_reader.read(c=None, z=zi,rescale=True)\n",
        "    image[:,:,:,zi] = img_zi\n",
        "\n",
        "\n",
        "image_zproj = np.max(image,axis=3)\n",
        "# image = np.expand_dims(image_zproj, axis=-1)\n",
        "print(image.shape)\n",
        "for ci in range(image.shape[2]):\n",
        "    cim = image[:,:,ci,:]\n",
        "    flat = cim.flatten()\n",
        "    max= np.percentile(flat,100)\n",
        "    assert max>0 , print(flat)\n",
        "    cim = cim/max\n",
        "    image[:,:,ci,:] = cim"
      ]
    },
    {
      "cell_type": "code",
      "execution_count": null,
      "metadata": {
        "colab": {
          "base_uri": "https://localhost:8080/"
        },
        "id": "5vG4Oef9rQMr",
        "outputId": "f4e24711-9de1-4c4b-a7c4-78a1e1cbbfd5"
      },
      "outputs": [
        {
          "name": "stdout",
          "output_type": "stream",
          "text": [
            "Looking in indexes: https://pypi.org/simple, https://us-python.pkg.dev/colab-wheels/public/simple/\n",
            "Requirement already satisfied: cellpose in /usr/local/lib/python3.7/dist-packages (2.1.0)\n",
            "Requirement already satisfied: scipy in /usr/local/lib/python3.7/dist-packages (from cellpose) (1.7.3)\n",
            "Requirement already satisfied: numpy>=1.20.0 in /usr/local/lib/python3.7/dist-packages (from cellpose) (1.21.6)\n",
            "Requirement already satisfied: opencv-python-headless in /usr/local/lib/python3.7/dist-packages (from cellpose) (4.6.0.66)\n",
            "Requirement already satisfied: numba>=0.53.0 in /usr/local/lib/python3.7/dist-packages (from cellpose) (0.56.2)\n",
            "Requirement already satisfied: fastremap in /usr/local/lib/python3.7/dist-packages (from cellpose) (1.13.3)\n",
            "Requirement already satisfied: tifffile in /usr/local/lib/python3.7/dist-packages (from cellpose) (2021.11.2)\n",
            "Requirement already satisfied: tqdm in /usr/local/lib/python3.7/dist-packages (from cellpose) (4.64.1)\n",
            "Requirement already satisfied: natsort in /usr/local/lib/python3.7/dist-packages (from cellpose) (5.5.0)\n",
            "Requirement already satisfied: imagecodecs in /usr/local/lib/python3.7/dist-packages (from cellpose) (2021.11.20)\n",
            "Requirement already satisfied: torch>=1.6 in /usr/local/lib/python3.7/dist-packages (from cellpose) (1.12.1+cu113)\n",
            "Requirement already satisfied: llvmlite in /usr/local/lib/python3.7/dist-packages (from cellpose) (0.39.1)\n",
            "Requirement already satisfied: setuptools<60 in /usr/local/lib/python3.7/dist-packages (from numba>=0.53.0->cellpose) (57.4.0)\n",
            "Requirement already satisfied: importlib-metadata in /usr/local/lib/python3.7/dist-packages (from numba>=0.53.0->cellpose) (5.0.0)\n",
            "Requirement already satisfied: typing-extensions in /usr/local/lib/python3.7/dist-packages (from torch>=1.6->cellpose) (4.1.1)\n",
            "Requirement already satisfied: zipp>=0.5 in /usr/local/lib/python3.7/dist-packages (from importlib-metadata->numba>=0.53.0->cellpose) (3.9.0)\n"
          ]
        }
      ],
      "source": [
        "import os\n",
        "os.environ[\"CELLPOSE_LOCAL_MODELS_PATH\"] = \"/PATH_FOR_MODELS/\"\n",
        "\n",
        "!pip install cellpose\n",
        "from cellpose import models\n",
        "\n",
        "# model_type='cyto' or 'nuclei' or 'cyto2'\n"
      ]
    },
    {
      "cell_type": "code",
      "execution_count": null,
      "metadata": {
        "colab": {
          "background_save": true,
          "base_uri": "https://localhost:8080/"
        },
        "id": "Me8-1vdjryjn",
        "outputId": "c91dc309-c504-420b-89c9-02ef595fe006"
      },
      "outputs": [
        {
          "name": "stderr",
          "output_type": "stream",
          "text": [
            "WARNING:cellpose.models:could not estimate diameter, does not work on non-2D images\n"
          ]
        }
      ],
      "source": [
        "model = models.Cellpose(model_type='cyto')\n",
        "# imgs = [image[:,:,2,zi] for zi in range(image.shape[3])]\n",
        "# print(imgs)\n",
        "masks, flows, styles, diams = model.eval(image, diameter=15, channels=[0,0],do_3D=True)"
      ]
    },
    {
      "cell_type": "code",
      "execution_count": null,
      "metadata": {
        "colab": {
          "background_save": true
        },
        "id": "bgqciy3QqNJS"
      },
      "outputs": [],
      "source": [
        "# import numpy as np\n",
        "# import matplotlib.pyplot as plt\n",
        "# # from cellpose import models\n",
        "# # from cellpose.io import imread\n",
        "\n",
        "# # # model_type='cyto' or 'nuclei' or 'cyto2'\n",
        "# # model = models.Cellpose(model_type='cyto')\n",
        "\n",
        "# # list of files\n",
        "# # PUT PATH TO YOUR FILES HERE!\n",
        "# files = ['/media/carsen/DATA1/TIFFS/onechan.tif']\n",
        "\n",
        "# imgs = [imread(f) for f in files]\n",
        "# nimg = len(imgs)\n",
        "\n",
        "# # define CHANNELS to run segementation on\n",
        "# # grayscale=0, R=1, G=2, B=3\n",
        "# # channels = [cytoplasm, nucleus]\n",
        "# # if NUCLEUS channel does not exist, set the second channel to 0\n",
        "# channels = [[0,0]]\n",
        "# # IF ALL YOUR IMAGES ARE THE SAME TYPE, you can give a list with 2 elements\n",
        "# # channels = [0,0] # IF YOU HAVE GRAYSCALE\n",
        "# # channels = [2,3] # IF YOU HAVE G=cytoplasm and B=nucleus\n",
        "# # channels = [2,1] # IF YOU HAVE G=cytoplasm and R=nucleus\n",
        "\n",
        "# # if diameter is set to None, the size of the cells is estimated on a per image basis\n",
        "# # you can set the average cell `diameter` in pixels yourself (recommended)\n",
        "# # diameter can be a list or a single number for all images\n",
        "\n",
        "# masks, flows, styles, diams = model.eval(imgs, diameter=None, channels=channels)"
      ]
    }
  ],
  "metadata": {
    "colab": {
      "provenance": [],
      "authorship_tag": "ABX9TyOyxnx961+W6bhRM2mHtcKv",
      "include_colab_link": true
    },
    "kernelspec": {
      "display_name": "Python 3",
      "name": "python3"
    },
    "language_info": {
      "name": "python"
    }
  },
  "nbformat": 4,
  "nbformat_minor": 0
}