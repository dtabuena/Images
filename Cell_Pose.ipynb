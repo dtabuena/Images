{
  "cells": [
    {
      "cell_type": "markdown",
      "metadata": {
        "id": "view-in-github",
        "colab_type": "text"
      },
      "source": [
        "<a href=\"https://colab.research.google.com/github/dtabuena/Images/blob/main/Cell_Pose.ipynb\" target=\"_parent\"><img src=\"https://colab.research.google.com/assets/colab-badge.svg\" alt=\"Open In Colab\"/></a>"
      ]
    },
    {
      "cell_type": "code",
      "execution_count": 17,
      "metadata": {
        "colab": {
          "base_uri": "https://localhost:8080/"
        },
        "id": "nuvFURZJqTKl",
        "outputId": "fb9f5b80-15a4-420e-c23b-66ad0fdc5248"
      },
      "outputs": [
        {
          "output_type": "stream",
          "name": "stdout",
          "text": [
            "Looking in indexes: https://pypi.org/simple, https://us-python.pkg.dev/colab-wheels/public/simple/\n",
            "Requirement already satisfied: python-bioformats in /usr/local/lib/python3.7/dist-packages (4.0.6)\n",
            "Requirement already satisfied: future>=0.18.2 in /usr/local/lib/python3.7/dist-packages (from python-bioformats) (0.18.2)\n",
            "Requirement already satisfied: python-javabridge==4.0.3 in /usr/local/lib/python3.7/dist-packages (from python-bioformats) (4.0.3)\n",
            "Requirement already satisfied: boto3>=1.14.23 in /usr/local/lib/python3.7/dist-packages (from python-bioformats) (1.24.93)\n",
            "Requirement already satisfied: numpy>=1.20.1 in /usr/local/lib/python3.7/dist-packages (from python-javabridge==4.0.3->python-bioformats) (1.21.6)\n",
            "Requirement already satisfied: botocore<1.28.0,>=1.27.93 in /usr/local/lib/python3.7/dist-packages (from boto3>=1.14.23->python-bioformats) (1.27.93)\n",
            "Requirement already satisfied: s3transfer<0.7.0,>=0.6.0 in /usr/local/lib/python3.7/dist-packages (from boto3>=1.14.23->python-bioformats) (0.6.0)\n",
            "Requirement already satisfied: jmespath<2.0.0,>=0.7.1 in /usr/local/lib/python3.7/dist-packages (from boto3>=1.14.23->python-bioformats) (1.0.1)\n",
            "Requirement already satisfied: urllib3<1.27,>=1.25.4 in /usr/local/lib/python3.7/dist-packages (from botocore<1.28.0,>=1.27.93->boto3>=1.14.23->python-bioformats) (1.26.12)\n",
            "Requirement already satisfied: python-dateutil<3.0.0,>=2.1 in /usr/local/lib/python3.7/dist-packages (from botocore<1.28.0,>=1.27.93->boto3>=1.14.23->python-bioformats) (2.8.2)\n",
            "Requirement already satisfied: six>=1.5 in /usr/local/lib/python3.7/dist-packages (from python-dateutil<3.0.0,>=2.1->botocore<1.28.0,>=1.27.93->boto3>=1.14.23->python-bioformats) (1.15.0)\n"
          ]
        }
      ],
      "source": [
        "!pip install python-bioformats\n"
      ]
    },
    {
      "cell_type": "code",
      "execution_count": 18,
      "metadata": {
        "colab": {
          "base_uri": "https://localhost:8080/"
        },
        "id": "_MEmlpvSqlsv",
        "outputId": "693604c1-bbc9-4438-8d84-79f76b356391"
      },
      "outputs": [
        {
          "output_type": "stream",
          "name": "stdout",
          "text": [
            "Archive:  /content/images.zip\n",
            "warning:  stripped absolute path spec from /\n",
            "mapname:  conversion of  failed\n",
            "replace /content/images/MDGA2_08-24-22_DG_40X_2XZoom_1.oir? [y]es, [n]o, [A]ll, [N]one, [r]ename:  extracting: /content/images/MDGA2_08-24-22_DG_40X_2XZoom_1.oir  \n",
            " extracting: /content/images/MDGA2_08-25-22_DG_40X_2XZoom_1.oir  \n",
            " extracting: /content/images/Nell2_08-04-22_DG_40X_2XZoom_1.oir  \n",
            " extracting: /content/images/Nell2_08-04-22_CA3_40X_2XZoom_1.oir  \n",
            " extracting: /content/images/RNF182_08-15-22_CA3_40X_2XZoom_1.oir  \n",
            " extracting: /content/images/MDGA2_08-22-22_S001_DG_40X_2XZoom_1.oir  \n",
            " extracting: /content/images/Nell2_08-10-22__S001_DG_40X_2XZoom_2.oir  \n",
            " extracting: /content/images/RNF182_08-17-22_S001_DG_40X_2XZoom_1.oir  \n",
            " extracting: /content/images/Nell2_08-10-22__S001_CA3_40X_2XZoom_2.oir  \n",
            " extracting: /content/images/RNF182_08-12-22_S001_CA3_40X_2XZoom_1.oir  \n",
            " extracting: /content/images/Other/DifferentExposure_RNF182_08-15-22_DG_40X_2XZoom_1.oir  \n",
            " extracting: /content/images/Other/BrighterSettings_Nell2_08-10-22_S001_DG_40X_2XZoom_1.oir  \n",
            " extracting: /content/images/Other/BrighterSettings_Nell2_08-10-22_S001_CA3_40X_2XZoom_1.oir  \n"
          ]
        }
      ],
      "source": [
        "import numpy as np\n",
        "import javabridge\n",
        "import bioformats\n",
        "import skimage\n",
        "from skimage import filters\n",
        "from matplotlib import pyplot as plt\n",
        "import matplotlib\n",
        "import os\n",
        "import scipy\n",
        "from scipy import ndimage as ndi\n",
        "javabridge.start_vm(class_path=bioformats.JARS)\n",
        "\n",
        "\n",
        "\n",
        "def get_drobox_folder(link, new_filename):\n",
        "    'Download a folder from dropbox and unzip'\n",
        "    zipped_file_path = \"/content/\"+new_filename + \".zip\"\n",
        "    unzipped_file_path = \"/content/\"+new_filename\n",
        "    if not( os.path.exists(zipped_file_path)):\n",
        "        !wget -O $zipped_file_path $link    # download with new name\n",
        "    !echo A | unzip $zipped_file_path -d $unzipped_file_path \n",
        "    return new_filename\n",
        "\n",
        "def get_sub_files(rootdir):\n",
        "    'Recursively search subfolders and return a list of all files'\n",
        "    file_list =[]\n",
        "    for rootdir, dirs, files in os.walk(rootdir): \n",
        "            file_list.extend([os.path.join(rootdir,f) for f in files])\n",
        "    return file_list\n",
        "\n",
        "folder = get_drobox_folder('https://www.dropbox.com/sh/rv7944fsk9p1mvk/AAC0E8ZTPkr-pfgK8zdC730Sa?dl=0', 'images')\n",
        "file_list = get_sub_files(folder)\n",
        "file_list.sort()"
      ]
    },
    {
      "cell_type": "code",
      "execution_count": 19,
      "metadata": {
        "colab": {
          "base_uri": "https://localhost:8080/"
        },
        "id": "VwM25bdvqg2n",
        "outputId": "7747324a-5ce0-4be5-9fca-b4c238d2f17f"
      },
      "outputs": [
        {
          "output_type": "stream",
          "name": "stdout",
          "text": [
            "images/MDGA2_08-25-22_DG_40X_2XZoom_1.oir\n",
            "800 800 3 17\n",
            "(800, 800, 3, 17)\n"
          ]
        }
      ],
      "source": [
        "im_num = 2\n",
        "print(file_list[im_num])\n",
        "my_reader = bioformats.get_image_reader('my_image', file_list[im_num])\n",
        "\n",
        "c_dim = my_reader.rdr.getSizeC()\n",
        "z_dim = my_reader.rdr.getSizeZ()\n",
        "x_dim = my_reader.rdr.getSizeX()\n",
        "y_dim = my_reader.rdr.getSizeY()\n",
        "print(x_dim,y_dim,c_dim,z_dim)\n",
        "\n",
        "image = np.empty([x_dim,y_dim,c_dim,z_dim])\n",
        "for zi in range(z_dim):\n",
        "    img_zi = my_reader.read(c=None, z=zi,rescale=True)\n",
        "    image[:,:,:,zi] = img_zi\n",
        "\n",
        "\n",
        "image_zproj = np.max(image,axis=3)\n",
        "# image = np.expand_dims(image_zproj, axis=-1)\n",
        "print(image.shape)\n",
        "for ci in range(image.shape[2]):\n",
        "    cim = image[:,:,ci,:]\n",
        "    flat = cim.flatten()\n",
        "    max= np.percentile(flat,100)\n",
        "    assert max>0 , print(flat)\n",
        "    cim = cim/max\n",
        "    image[:,:,ci,:] = cim"
      ]
    },
    {
      "cell_type": "code",
      "execution_count": 20,
      "metadata": {
        "colab": {
          "base_uri": "https://localhost:8080/"
        },
        "id": "5vG4Oef9rQMr",
        "outputId": "46741084-0c0b-4698-e513-0da5bc462d6d"
      },
      "outputs": [
        {
          "output_type": "stream",
          "name": "stdout",
          "text": [
            "Looking in indexes: https://pypi.org/simple, https://us-python.pkg.dev/colab-wheels/public/simple/\n",
            "Requirement already satisfied: cellpose in /usr/local/lib/python3.7/dist-packages (2.1.0)\n",
            "Requirement already satisfied: numba>=0.53.0 in /usr/local/lib/python3.7/dist-packages (from cellpose) (0.56.3)\n",
            "Requirement already satisfied: tifffile in /usr/local/lib/python3.7/dist-packages (from cellpose) (2021.11.2)\n",
            "Requirement already satisfied: imagecodecs in /usr/local/lib/python3.7/dist-packages (from cellpose) (2021.11.20)\n",
            "Requirement already satisfied: tqdm in /usr/local/lib/python3.7/dist-packages (from cellpose) (4.64.1)\n",
            "Requirement already satisfied: fastremap in /usr/local/lib/python3.7/dist-packages (from cellpose) (1.13.3)\n",
            "Requirement already satisfied: scipy in /usr/local/lib/python3.7/dist-packages (from cellpose) (1.7.3)\n",
            "Requirement already satisfied: opencv-python-headless in /usr/local/lib/python3.7/dist-packages (from cellpose) (4.6.0.66)\n",
            "Requirement already satisfied: natsort in /usr/local/lib/python3.7/dist-packages (from cellpose) (5.5.0)\n",
            "Requirement already satisfied: numpy>=1.20.0 in /usr/local/lib/python3.7/dist-packages (from cellpose) (1.21.6)\n",
            "Requirement already satisfied: llvmlite in /usr/local/lib/python3.7/dist-packages (from cellpose) (0.39.1)\n",
            "Requirement already satisfied: torch>=1.6 in /usr/local/lib/python3.7/dist-packages (from cellpose) (1.12.1+cu113)\n",
            "Requirement already satisfied: importlib-metadata in /usr/local/lib/python3.7/dist-packages (from numba>=0.53.0->cellpose) (4.13.0)\n",
            "Requirement already satisfied: setuptools in /usr/local/lib/python3.7/dist-packages (from numba>=0.53.0->cellpose) (57.4.0)\n",
            "Requirement already satisfied: typing-extensions in /usr/local/lib/python3.7/dist-packages (from torch>=1.6->cellpose) (4.1.1)\n",
            "Requirement already satisfied: zipp>=0.5 in /usr/local/lib/python3.7/dist-packages (from importlib-metadata->numba>=0.53.0->cellpose) (3.9.0)\n"
          ]
        }
      ],
      "source": [
        "import os\n",
        "os.environ[\"CELLPOSE_LOCAL_MODELS_PATH\"] = \"/PATH_FOR_MODELS/\"\n",
        "\n",
        "!pip install cellpose\n",
        "from cellpose import models\n"
      ]
    },
    {
      "cell_type": "code",
      "source": [
        "# def score_image(image,chan_dim,cell_chan):\n",
        "chan_dim = 2\n",
        "cell_chan = 2\n",
        "z_dim = 3\n",
        "diameter = 30\n",
        "min_vox = 500\n",
        "ch_names = ['target','mCherry','NeuN']\n",
        "\n",
        "'''Transpose ndims, preserve labels'''\n",
        "dim_order = np.arange(image.ndim).tolist()\n",
        "dim_order = [chan_dim, z_dim] + [d for d in dim_order if d not in [chan_dim, z_dim]]\n",
        "chan_dim = [i for i in range(len(dim_order)) if dim_order[i]==chan_dim][0]\n",
        "z_dim = [i for i in range(len(dim_order)) if dim_order[i]==z_dim][0]\n",
        "\n",
        "'''Normalize channel intensities'''\n",
        "image_r=np.transpose(image,dim_order)\n",
        "ch_val_list = []\n",
        "for ch in range(image_r.shape[chan_dim]):    \n",
        "    ch_val = image_r[ch,:,:,:]\n",
        "    ch_z = (ch_val-np.mean(ch_val.flatten())) / np.std(ch_val.flatten())\n",
        "    ch_val_list.append(ch_z)\n",
        "image_znorm = np.stack(ch_val_list,axis=0)\n",
        "\n",
        "\n",
        "\n",
        "\n",
        "\n",
        "\n",
        "'''Generate Masks with Cellpose'''\n",
        "# model = models.Cellpose(model_type='cyto')\n",
        "# masks, _, _, _ = model.eval(image_r[cell_chan,:,:,:], diameter=diameter, channels=[0,0], stitch_threshold=.001,do_3D=False)\n",
        "masks=masks.astype(float)\n",
        "nan_masks_id = masks.copy().astype(float)\n",
        "nan_masks_id[masks==0]=np.nan\n",
        "nan_masks_bin = nan_masks_id>0\n",
        "nan_masks_bin = nan_masks_bin.astype(float)\n",
        "nan_masks_bin[masks==0.]=np.nan\n",
        "masked_composite = image_r*np.stack([nan_masks_bin>0] * 3,axis=0)\n",
        "\n",
        "'''Normalize Cell intensities'''\n",
        "ch_val_list = []\n",
        "for ch in range(masked_composite.shape[chan_dim]):    \n",
        "    ch_val = image_r[ch,:,:,:]*nan_masks_bin\n",
        "    ch_z = (ch_val-np.nanmean(ch_val.flatten())) / np.nanstd(ch_val.flatten())\n",
        "    ch_val_list.append(ch_z)\n",
        "masked_composite_znorm = np.stack(ch_val_list,axis=0)\n",
        "\n",
        "# '''Quantify Cell Intensities'''\n",
        "# cell_ids =np.arange(0,np.nanmax(masks_og.flatten()))+1\n",
        "# cell_df = pd.DataFrame({'cell_id':cell_ids}).set_index('cell_id')\n",
        "# for ch in range(masked_composite.shape[chan_dim]):\n",
        "#     for cell in cell_df.index:\n",
        "#         cell_df.at[cell,'size'] = np.nansum((masks.flatten()==cell))\n",
        "#         cell_df.at[cell,'mean_'+ch_names[ch]] = np.nansum( masked_composite[ch,:,:,:]) / cell_df.loc[cell,'size']\n",
        "\n",
        "\n",
        "# cell_df.head()\n"
      ],
      "metadata": {
        "id": "jb1tX1l1DeJH"
      },
      "execution_count": 28,
      "outputs": []
    },
    {
      "cell_type": "code",
      "source": [
        "plt.hist(masked_composite_znorm[1,:,:,:].flatten(),bins=np.arange(-4,4))"
      ],
      "metadata": {
        "id": "baIYg2GUg_H-",
        "outputId": "96fa4b32-ff90-482a-d8bb-5a4e5aac794d",
        "colab": {
          "base_uri": "https://localhost:8080/",
          "height": 320
        }
      },
      "execution_count": 29,
      "outputs": [
        {
          "output_type": "execute_result",
          "data": {
            "text/plain": [
              "(array([     0.,      0.,      0., 666455., 124812.,  43997.,  18763.]),\n",
              " array([-4, -3, -2, -1,  0,  1,  2,  3]),\n",
              " <a list of 7 Patch objects>)"
            ]
          },
          "metadata": {},
          "execution_count": 29
        },
        {
          "output_type": "display_data",
          "data": {
            "text/plain": [
              "<Figure size 432x288 with 1 Axes>"
            ],
            "image/png": "[encoded data removed]"
          },
          "metadata": {
            "needs_background": "light"
          }
        }
      ]
    },
    {
      "cell_type": "code",
      "source": [
        "n=2\n",
        "psize = 14\n",
        "fig, axs = plt.subplots(4,2,figsize=(psize*2,psize*4))\n",
        "axs=axs.flatten()\n",
        "axs[0].imshow(skimage.util.montage(image_znorm[2,:,:,:]),cmap='gray',vmax=6)\n",
        "axs[1].imshow(skimage.util.montage(nan_masks_id),cmap='prism')\n",
        "\n",
        "axs[2].imshow(skimage.util.montage(image_znorm[1,:,:,:]),cmap='hot')\n",
        "axs[3].imshow(skimage.util.montage(masked_composite_znorm[1,:,:,:]),cmap='bwr',vmin=-3,vmax=3)\n",
        "\n",
        "axs[4].imshow(skimage.util.montage(image_znorm[0,:,:,:]),cmap='viridis')\n",
        "axs[5].imshow(skimage.util.montage(masked_composite_znorm[0,:,:,:]),cmap='PiYG',vmin=-3,vmax=3)\n",
        "\n",
        "\n",
        "merge = np.stack(   [image_znorm[1,:,:,:],\n",
        "                     image_znorm[0,:,:,:],\n",
        "                     image_znorm[0,:,:,:]*0])\n",
        "\n",
        "merge_masked = merge.copy()*np.stack([nan_masks_bin] * 3,axis=0)\n",
        "\n",
        "axs[6].imshow(skimage.util.montage(merge,multichannel=True))\n",
        "axs[7].imshow(skimage.util.montage(merge_masked))"
      ],
      "metadata": {
        "id": "v2V8dm1BuXDi"
      },
      "execution_count": null,
      "outputs": []
    },
    {
      "cell_type": "code",
      "source": [
        "cell_df.head()"
      ],
      "metadata": {
        "id": "ZRvq-c7ffWKl",
        "outputId": "ce703039-74f3-4869-db65-999131d22fd4",
        "colab": {
          "base_uri": "https://localhost:8080/",
          "height": 172
        }
      },
      "execution_count": 23,
      "outputs": [
        {
          "output_type": "error",
          "ename": "NameError",
          "evalue": "ignored",
          "traceback": [
            "\u001b[0;31m---------------------------------------------------------------------------\u001b[0m",
            "\u001b[0;31mNameError\u001b[0m                                 Traceback (most recent call last)",
            "\u001b[0;32m<ipython-input-23-8922e87e4846>\u001b[0m in \u001b[0;36m<module>\u001b[0;34m\u001b[0m\n\u001b[0;32m----> 1\u001b[0;31m \u001b[0mcell_df\u001b[0m\u001b[0;34m.\u001b[0m\u001b[0mhead\u001b[0m\u001b[0;34m(\u001b[0m\u001b[0;34m)\u001b[0m\u001b[0;34m\u001b[0m\u001b[0;34m\u001b[0m\u001b[0m\n\u001b[0m",
            "\u001b[0;31mNameError\u001b[0m: name 'cell_df' is not defined"
          ]
        }
      ]
    },
    {
      "cell_type": "code",
      "source": [
        "n = np.stack([masks] * 3,axis=0)"
      ],
      "metadata": {
        "id": "GWijVO6PclJu"
      },
      "execution_count": null,
      "outputs": []
    },
    {
      "cell_type": "code",
      "execution_count": null,
      "metadata": {
        "id": "Me8-1vdjryjn"
      },
      "outputs": [],
      "source": [
        "model = models.Cellpose(model_type='cyto')\n",
        "imgs = [image[:,:,2,zi] for zi in range(image.shape[3])]\n",
        "# print(imgs)\n",
        "\n",
        "imgs=imgs[5]\n",
        "masks, flows, styles, diams = model.eval(imgs, diameter=30, channels=[0,0]) \n",
        "masks = masks.astype(float)\n",
        "masks[masks==0] = np.nan\n",
        "n=2\n",
        "psize = 10\n",
        "fig, axs = plt.subplots(1,n,figsize=(psize*n,psize))\n",
        "axs= axs.flatten()\n",
        "axs[0].imshow(imgs)\n",
        "axs[1].imshow(masks,cmap='prism')\n",
        "# plt.show()\n",
        "print(diams)\n",
        "print(masks)"
      ]
    },
    {
      "cell_type": "code",
      "source": [
        "import skimage\n",
        "\n",
        "\n",
        "model = models.Cellpose(model_type='cyto')\n",
        "# imgs = [image[:,:,2,zi] for zi in range(image.shape[3])]\n",
        "imgs = image[:,:,2,:]\n",
        "imgs = np.transpose(imgs,(2,0,1))\n",
        "# imgs = imgs[0:4,400:600,200:400]\n",
        "masks_og, flows, styles, diams = model.eval(imgs, diameter=35, channels=[0,0], stitch_threshold=.001,do_3D=False) #anistropy\n",
        "masks = masks_og.copy()\n",
        "masks = masks.astype(float)\n",
        "masks[masks==0] = np.nan\n",
        "n=2\n",
        "psize = 10\n",
        "fig, axs = plt.subplots(1,n,figsize=(psize*n,psize))\n",
        "axs= axs.flatten()\n",
        "axs[0].imshow(skimage.util.montage(imgs),vmax = np.percentile(imgs.flatten(),99))\n",
        "axs[1].imshow(skimage.util.montage(masks),cmap='prism')\n",
        "# plt.show()"
      ],
      "metadata": {
        "id": "RU8K2LCg3O6A"
      },
      "execution_count": null,
      "outputs": []
    },
    {
      "cell_type": "code",
      "source": [
        "mask_bool = masks>0\n",
        "red_stack = np.transpose(image[:,:,1,:],(2,0,1))\n",
        "# red_zscore = red_stack.copy()\n",
        "r_cell_val = red_stack[masks_og>0].flatten()\n",
        "red_zscore = (red_stack.copy() - np.mean(r_cell_val))/np.std(r_cell_val)\n",
        "red_zscore[np.logical_not(mask_bool)]=0\n",
        "n=2\n",
        "psize = 10\n",
        "fig, axs = plt.subplots(1,n,figsize=(psize*n,psize))\n",
        "axs= axs.flatten()\n",
        "axs[0].imshow(skimage.util.montage(red_stack),cmap='hot',vmax=np.percentile(red_stack.flatten(),99.9))\n",
        "m = np.max(np.abs(red_zscore.flatten()))\n",
        "m=3\n",
        "axs[1].imshow(skimage.util.montage(red_zscore),cmap='bwr', vmin=-m,vmax=m)"
      ],
      "metadata": {
        "id": "tSi5J1pTdfPI"
      },
      "execution_count": null,
      "outputs": []
    },
    {
      "cell_type": "code",
      "source": [
        "mask_bool = masks>0\n",
        "green_stack = np.transpose(image[:,:,0,:],(2,0,1))\n",
        "green_cell_vals = green_stack[masks_og>0].flatten()\n",
        "green_zscore = (green_stack.copy() - np.mean(green_cell_vals))/np.std(green_cell_vals)\n",
        "green_zscore[np.logical_not(mask_bool)]=0\n",
        "n=2\n",
        "psize = 10\n",
        "fig, axs = plt.subplots(1,n,figsize=(psize*n,psize))\n",
        "axs= axs.flatten()\n",
        "axs[0].imshow(skimage.util.montage(green_stack),cmap='viridis',vmax = np.percentile(green_stack.flatten(),99))\n",
        "m = np.max(np.abs(green_zscore.flatten()))\n",
        "m=3\n",
        "axs[1].imshow(skimage.util.montage(green_zscore),cmap='PiYG', vmin=-m,vmax=m)"
      ],
      "metadata": {
        "id": "vbJ4TK-lCbww"
      },
      "execution_count": null,
      "outputs": []
    },
    {
      "cell_type": "code",
      "source": [
        "n=3\n",
        "psize = 8\n",
        "fig, axs = plt.subplots(1,n,figsize=(psize*n,psize))\n",
        "\n",
        "merge = np.stack([np.zeros_like(green_zscore) for i in range(3)],axis=-1)\n",
        "merge[:,:,:,0] = red_zscore\n",
        "merge[:,:,:,1] = green_zscore\n",
        "merge = merge/4\n",
        "\n",
        "\n",
        "m=3\n",
        "axs[0].imshow(skimage.util.montage(red_zscore),cmap='bwr', vmin=-m,vmax=m)\n",
        "axs[2].imshow(skimage.util.montage(green_zscore),cmap='PiYG', vmin=-m,vmax=m)\n",
        "\n",
        "axs[1].imshow(skimage.util.montage(merge,multichannel=True))"
      ],
      "metadata": {
        "id": "23k_qEMLEsXN"
      },
      "execution_count": null,
      "outputs": []
    },
    {
      "cell_type": "code",
      "source": [
        "_ = plt.hist(masks.flatten(),bins=np.arange(0,np.nanmax(masks.flatten())))"
      ],
      "metadata": {
        "id": "48L_u_7kixMD"
      },
      "execution_count": null,
      "outputs": []
    },
    {
      "cell_type": "code",
      "source": [
        "import pandas as pd\n",
        "\n",
        "cell_ids =np.arange(0,np.nanmax(masks_og.flatten()))+1\n",
        "cell_df = pd.DataFrame({'cell_id':cell_ids}).set_index('cell_id')\n",
        "# cell_df['size']=np.nan\n",
        "# cell_df['loc_z']=np.nan\n",
        "# cell_df['loc_z']=cell_df['loc_z'].astype('object')\n",
        "# cell_df['loc_y']=np.nan\n",
        "# cell_df['loc_y']=cell_df['loc_y'].astype('object')\n",
        "# cell_df['loc_x']=np.nan\n",
        "# cell_df['loc_x']=cell_df['loc_x'].astype('object')\n",
        "# cell_df['redness']=np.nan\n",
        "for c in cell_df.index:\n",
        "    cell_df.at[c,'size'] = np.nansum((masks_og.flatten()==c)*1.)\n",
        "    cell_df.at[c,'redness'] = np.sum(  red_zscore[masks_og==c]   )/cell_df.at[c,'size']\n",
        "    cell_df.at[c,'greeness'] = np.sum(  green_zscore[masks_og==c]   )/cell_df.at[c,'size']\n",
        "\n",
        "\n",
        "cell_df['large'] = cell_df['size'] > 1000\n",
        "display(cell_df)"
      ],
      "metadata": {
        "id": "OMF8RTTjMjKX"
      },
      "execution_count": null,
      "outputs": []
    },
    {
      "cell_type": "code",
      "source": [
        "import matplotlib as mpl\n",
        "\n",
        "cell_df['large'] = cell_df['size'] > 100\n",
        "\n",
        "fig, ax = plt.subplots(1,2)\n",
        "ax[0].scatter( cell_df['redness'][cell_df['large']], cell_df['greeness'][cell_df['large']])\n",
        "ax[0].set_xlabel('Redness')\n",
        "ax[0].set_ylabel('Greeness')\n",
        "\n",
        "ax[1].hist2d( cell_df['redness'], cell_df['greeness'], norm=mpl.colors.LogNorm())\n",
        "ax[1].set_xlabel('Redness')\n",
        "ax[1].set_ylabel('Greeness')\n",
        "\n",
        "\n",
        "isR = cell_df['redness']>0\n",
        "isG = cell_df['greeness']>0\n",
        "isNG = cell_df['greeness']<0\n",
        "isNR = cell_df['redness']<0\n",
        "\n",
        "RG = np.sum(np.logical_and(isR[cell_df['large']],isG[cell_df['large']]))\n",
        "nRG = np.sum(np.logical_and(isNR[cell_df['large']],isG[cell_df['large']]))\n",
        "RnG = np.sum(np.logical_and(isNG[cell_df['large']],isR[cell_df['large']]))\n",
        "nRnG = np.sum(np.logical_and(isNR[cell_df['large']],isNG[cell_df['large']]))\n",
        "\n",
        "\n",
        "# print('P(R)',np.mean(isR[cell_df['large']]))\n",
        "# print('P(R|G)',np.mean(isR[isG][cell_df['large']]))\n",
        "print('P(G|nR)',np.mean(isG[isNR][cell_df['large']]))\n",
        "print('P(G|R)',np.mean(isG[isR][cell_df['large']]))\n",
        "\n",
        "print('P(nG|R)',np.mean(isNG[isR][cell_df['large']]))\n",
        "print('P(nG|nR)',np.mean(isNG[isNR][cell_df['large']]))\n",
        "\n",
        "table = np.array([[RG, nRG],\n",
        "                  [RnG, nRnG]])\n",
        "print(table)\n",
        "\n",
        "oddsratio, p_value =  scipy.stats.fisher_exact(table, alternative='two-sided')\n",
        "print(p_value)"
      ],
      "metadata": {
        "id": "vO3ZbTBnsqUS"
      },
      "execution_count": null,
      "outputs": []
    },
    {
      "cell_type": "code",
      "source": [],
      "metadata": {
        "id": "BhbM5is9ALGS"
      },
      "execution_count": null,
      "outputs": []
    },
    {
      "cell_type": "code",
      "source": [],
      "metadata": {
        "id": "BPX5C-UClt6w"
      },
      "execution_count": null,
      "outputs": []
    }
  ],
  "metadata": {
    "colab": {
      "provenance": [],
      "authorship_tag": "ABX9TyPjhyaey9YKfYiWkYky9Tdl",
      "include_colab_link": true
    },
    "kernelspec": {
      "display_name": "Python 3",
      "name": "python3"
    },
    "language_info": {
      "name": "python"
    }
  },
  "nbformat": 4,
  "nbformat_minor": 0
}