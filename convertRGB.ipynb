{
  "nbformat": 4,
  "nbformat_minor": 0,
  "metadata": {
    "colab": {
      "provenance": [],
      "authorship_tag": "ABX9TyMykDUsQbJsnsK6/xfxpWty",
      "include_colab_link": true
    },
    "kernelspec": {
      "name": "python3",
      "display_name": "Python 3"
    },
    "language_info": {
      "name": "python"
    }
  },
  "cells": [
    {
      "cell_type": "markdown",
      "metadata": {
        "id": "view-in-github",
        "colab_type": "text"
      },
      "source": [
        "<a href=\"https://colab.research.google.com/github/dtabuena/Images/blob/main/convertRGB.ipynb\" target=\"_parent\"><img src=\"https://colab.research.google.com/assets/colab-badge.svg\" alt=\"Open In Colab\"/></a>"
      ]
    },
    {
      "cell_type": "code",
      "execution_count": null,
      "metadata": {
        "id": "OHc2UTuNOOqR"
      },
      "outputs": [],
      "source": [
        "def rgb_cmy(image,caxis=2,balance = [1,1,1]):\n",
        "\n",
        "    image = np.moveaxis(image, caxis, 2)\n",
        "\n",
        "    image_R = image[:,:,0]\n",
        "    image_G = image[:,:,1]\n",
        "    image_B = image[:,:,2]\n",
        "\n",
        "\n",
        "    CYM_r = np.zeros_like(image)\n",
        "    CYM_r[:,:,0] = image_R\n",
        "    CYM_r[:,:,2] = image_R\n",
        "\n",
        "    CYM_g = np.zeros_like(image)\n",
        "    CYM_g[:,:,0] = image_G\n",
        "    CYM_g[:,:,1] = image_G\n",
        "\n",
        "    CYM_b = np.zeros_like(image)\n",
        "    CYM_b[:,:,1] = image_B\n",
        "    CYM_b[:,:,2] = image_B\n",
        "\n",
        "    merge_cym = CYM_r*balance[0] + CYM_g*balance[1] + CYM_b*balance[2]\n",
        "    merge_cym = merge_cym/np.max(merge_cym)\n",
        "    return merge_cym"
      ]
    }
  ]
}